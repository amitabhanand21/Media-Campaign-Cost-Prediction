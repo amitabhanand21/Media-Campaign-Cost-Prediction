{
 "cells": [
  {
   "cell_type": "code",
   "execution_count": 1,
   "id": "32f08171",
   "metadata": {
    "_cell_guid": "b1076dfc-b9ad-4769-8c92-a6c4dae69d19",
    "_uuid": "8f2839f25d086af736a60e9eeb907d3b93b6e0e5",
    "execution": {
     "iopub.execute_input": "2023-03-29T09:59:36.396170Z",
     "iopub.status.busy": "2023-03-29T09:59:36.395614Z",
     "iopub.status.idle": "2023-03-29T09:59:36.414030Z",
     "shell.execute_reply": "2023-03-29T09:59:36.412764Z"
    },
    "papermill": {
     "duration": 0.038777,
     "end_time": "2023-03-29T09:59:36.417144",
     "exception": false,
     "start_time": "2023-03-29T09:59:36.378367",
     "status": "completed"
    },
    "tags": []
   },
   "outputs": [],
   "source": [
    "# This Python 3 environment comes with many helpful analytics libraries installed\n",
    "# It is defined by the kaggle/python Docker image: https://github.com/kaggle/docker-python\n",
    "# For example, here's several helpful packages to load\n",
    "\n",
    "import numpy as np # linear algebra\n",
    "import pandas as pd # data processing, CSV file I/O (e.g. pd.read_csv)\n",
    "\n",
    "# Input data files are available in the read-only \"../input/\" directory\n",
    "# For example, running this (by clicking run or pressing Shift+Enter) will list all files under the input directory\n",
    "\n",
    "import os\n",
    "for dirname, _, filenames in os.walk('/kaggle/input'):\n",
    "    for filename in filenames:\n",
    "        print(os.path.join(dirname, filename))\n",
    "\n",
    "# You can write up to 20GB to the current directory (/kaggle/working/) that gets preserved as output when you create a version using \"Save & Run All\" \n",
    "# You can also write temporary files to /kaggle/temp/, but they won't be saved outside of the current session"
   ]
  },
  {
   "cell_type": "markdown",
   "id": "2d8d20d0",
   "metadata": {
    "papermill": {
     "duration": 0.012964,
     "end_time": "2023-03-29T09:59:36.443264",
     "exception": false,
     "start_time": "2023-03-29T09:59:36.430300",
     "status": "completed"
    },
    "tags": []
   },
   "source": [
    "# Imports"
   ]
  },
  {
   "cell_type": "code",
   "execution_count": 2,
   "id": "55ca81f1",
   "metadata": {
    "execution": {
     "iopub.execute_input": "2023-03-29T09:59:36.471352Z",
     "iopub.status.busy": "2023-03-29T09:59:36.470907Z",
     "iopub.status.idle": "2023-03-29T09:59:39.781111Z",
     "shell.execute_reply": "2023-03-29T09:59:39.779816Z"
    },
    "papermill": {
     "duration": 3.32752,
     "end_time": "2023-03-29T09:59:39.784133",
     "exception": false,
     "start_time": "2023-03-29T09:59:36.456613",
     "status": "completed"
    },
    "tags": []
   },
   "outputs": [],
   "source": [
    "import pandas as pd\n",
    "import numpy as np\n",
    "import matplotlib.pyplot as plt\n",
    "import seaborn as sns\n",
    "from sklearn.model_selection import train_test_split,cross_val_score\n",
    "from sklearn.ensemble import RandomForestRegressor\n",
    "from xgboost import XGBRegressor\n",
    "from sklearn.metrics import mean_squared_log_error, mean_absolute_error \n",
    "from scipy import stats\n",
    "import lightgbm as ltb"
   ]
  },
  {
   "cell_type": "markdown",
   "id": "fa27fbac",
   "metadata": {
    "papermill": {
     "duration": 0.012592,
     "end_time": "2023-03-29T09:59:39.811716",
     "exception": false,
     "start_time": "2023-03-29T09:59:39.799124",
     "status": "completed"
    },
    "tags": []
   },
   "source": [
    "# Reading the datset"
   ]
  },
  {
   "cell_type": "code",
   "execution_count": 3,
   "id": "4512fbe4",
   "metadata": {
    "execution": {
     "iopub.execute_input": "2023-03-29T09:59:39.839543Z",
     "iopub.status.busy": "2023-03-29T09:59:39.839064Z",
     "iopub.status.idle": "2023-03-29T09:59:41.478840Z",
     "shell.execute_reply": "2023-03-29T09:59:41.477523Z"
    },
    "papermill": {
     "duration": 1.657336,
     "end_time": "2023-03-29T09:59:41.482014",
     "exception": false,
     "start_time": "2023-03-29T09:59:39.824678",
     "status": "completed"
    },
    "tags": []
   },
   "outputs": [],
   "source": [
    "df = pd.read_csv('train.csv')\n",
    "df_test = pd.read_csv('test.csv')"
   ]
  },
  {
   "cell_type": "markdown",
   "id": "2ad73aff",
   "metadata": {
    "papermill": {
     "duration": 0.012776,
     "end_time": "2023-03-29T09:59:41.508025",
     "exception": false,
     "start_time": "2023-03-29T09:59:41.495249",
     "status": "completed"
    },
    "tags": []
   },
   "source": [
    "# Getting familiar with data"
   ]
  },
  {
   "cell_type": "code",
   "execution_count": 4,
   "id": "6b57503e",
   "metadata": {
    "execution": {
     "iopub.execute_input": "2023-03-29T09:59:41.536155Z",
     "iopub.status.busy": "2023-03-29T09:59:41.535543Z",
     "iopub.status.idle": "2023-03-29T09:59:41.580441Z",
     "shell.execute_reply": "2023-03-29T09:59:41.579104Z"
    },
    "papermill": {
     "duration": 0.062685,
     "end_time": "2023-03-29T09:59:41.583607",
     "exception": false,
     "start_time": "2023-03-29T09:59:41.520922",
     "status": "completed"
    },
    "tags": []
   },
   "outputs": [
    {
     "data": {
      "text/html": [
       "<div>\n",
       "<style scoped>\n",
       "    .dataframe tbody tr th:only-of-type {\n",
       "        vertical-align: middle;\n",
       "    }\n",
       "\n",
       "    .dataframe tbody tr th {\n",
       "        vertical-align: top;\n",
       "    }\n",
       "\n",
       "    .dataframe thead th {\n",
       "        text-align: right;\n",
       "    }\n",
       "</style>\n",
       "<table border=\"1\" class=\"dataframe\">\n",
       "  <thead>\n",
       "    <tr style=\"text-align: right;\">\n",
       "      <th></th>\n",
       "      <th>id</th>\n",
       "      <th>store_sales(in millions)</th>\n",
       "      <th>unit_sales(in millions)</th>\n",
       "      <th>total_children</th>\n",
       "      <th>num_children_at_home</th>\n",
       "      <th>avg_cars_at home(approx).1</th>\n",
       "      <th>gross_weight</th>\n",
       "      <th>recyclable_package</th>\n",
       "      <th>low_fat</th>\n",
       "      <th>units_per_case</th>\n",
       "      <th>store_sqft</th>\n",
       "      <th>coffee_bar</th>\n",
       "      <th>video_store</th>\n",
       "      <th>salad_bar</th>\n",
       "      <th>prepared_food</th>\n",
       "      <th>florist</th>\n",
       "      <th>cost</th>\n",
       "    </tr>\n",
       "  </thead>\n",
       "  <tbody>\n",
       "    <tr>\n",
       "      <th>0</th>\n",
       "      <td>0</td>\n",
       "      <td>8.61</td>\n",
       "      <td>3.0</td>\n",
       "      <td>2.0</td>\n",
       "      <td>2.0</td>\n",
       "      <td>2.0</td>\n",
       "      <td>10.30</td>\n",
       "      <td>1.0</td>\n",
       "      <td>0.0</td>\n",
       "      <td>32.0</td>\n",
       "      <td>36509.0</td>\n",
       "      <td>0.0</td>\n",
       "      <td>0.0</td>\n",
       "      <td>0.0</td>\n",
       "      <td>0.0</td>\n",
       "      <td>0.0</td>\n",
       "      <td>62.09</td>\n",
       "    </tr>\n",
       "    <tr>\n",
       "      <th>1</th>\n",
       "      <td>1</td>\n",
       "      <td>5.00</td>\n",
       "      <td>2.0</td>\n",
       "      <td>4.0</td>\n",
       "      <td>0.0</td>\n",
       "      <td>3.0</td>\n",
       "      <td>6.66</td>\n",
       "      <td>1.0</td>\n",
       "      <td>0.0</td>\n",
       "      <td>1.0</td>\n",
       "      <td>28206.0</td>\n",
       "      <td>1.0</td>\n",
       "      <td>0.0</td>\n",
       "      <td>0.0</td>\n",
       "      <td>0.0</td>\n",
       "      <td>0.0</td>\n",
       "      <td>121.80</td>\n",
       "    </tr>\n",
       "    <tr>\n",
       "      <th>2</th>\n",
       "      <td>2</td>\n",
       "      <td>14.08</td>\n",
       "      <td>4.0</td>\n",
       "      <td>0.0</td>\n",
       "      <td>0.0</td>\n",
       "      <td>3.0</td>\n",
       "      <td>21.30</td>\n",
       "      <td>1.0</td>\n",
       "      <td>0.0</td>\n",
       "      <td>26.0</td>\n",
       "      <td>21215.0</td>\n",
       "      <td>1.0</td>\n",
       "      <td>0.0</td>\n",
       "      <td>0.0</td>\n",
       "      <td>0.0</td>\n",
       "      <td>0.0</td>\n",
       "      <td>83.51</td>\n",
       "    </tr>\n",
       "    <tr>\n",
       "      <th>3</th>\n",
       "      <td>3</td>\n",
       "      <td>4.02</td>\n",
       "      <td>3.0</td>\n",
       "      <td>5.0</td>\n",
       "      <td>0.0</td>\n",
       "      <td>0.0</td>\n",
       "      <td>14.80</td>\n",
       "      <td>0.0</td>\n",
       "      <td>1.0</td>\n",
       "      <td>36.0</td>\n",
       "      <td>21215.0</td>\n",
       "      <td>1.0</td>\n",
       "      <td>0.0</td>\n",
       "      <td>0.0</td>\n",
       "      <td>0.0</td>\n",
       "      <td>0.0</td>\n",
       "      <td>66.78</td>\n",
       "    </tr>\n",
       "    <tr>\n",
       "      <th>4</th>\n",
       "      <td>4</td>\n",
       "      <td>2.13</td>\n",
       "      <td>3.0</td>\n",
       "      <td>5.0</td>\n",
       "      <td>0.0</td>\n",
       "      <td>3.0</td>\n",
       "      <td>17.00</td>\n",
       "      <td>1.0</td>\n",
       "      <td>1.0</td>\n",
       "      <td>20.0</td>\n",
       "      <td>27694.0</td>\n",
       "      <td>1.0</td>\n",
       "      <td>1.0</td>\n",
       "      <td>1.0</td>\n",
       "      <td>1.0</td>\n",
       "      <td>1.0</td>\n",
       "      <td>111.51</td>\n",
       "    </tr>\n",
       "  </tbody>\n",
       "</table>\n",
       "</div>"
      ],
      "text/plain": [
       "   id  store_sales(in millions)  unit_sales(in millions)  total_children  \\\n",
       "0   0                      8.61                      3.0             2.0   \n",
       "1   1                      5.00                      2.0             4.0   \n",
       "2   2                     14.08                      4.0             0.0   \n",
       "3   3                      4.02                      3.0             5.0   \n",
       "4   4                      2.13                      3.0             5.0   \n",
       "\n",
       "   num_children_at_home  avg_cars_at home(approx).1  gross_weight  \\\n",
       "0                   2.0                         2.0         10.30   \n",
       "1                   0.0                         3.0          6.66   \n",
       "2                   0.0                         3.0         21.30   \n",
       "3                   0.0                         0.0         14.80   \n",
       "4                   0.0                         3.0         17.00   \n",
       "\n",
       "   recyclable_package  low_fat  units_per_case  store_sqft  coffee_bar  \\\n",
       "0                 1.0      0.0            32.0     36509.0         0.0   \n",
       "1                 1.0      0.0             1.0     28206.0         1.0   \n",
       "2                 1.0      0.0            26.0     21215.0         1.0   \n",
       "3                 0.0      1.0            36.0     21215.0         1.0   \n",
       "4                 1.0      1.0            20.0     27694.0         1.0   \n",
       "\n",
       "   video_store  salad_bar  prepared_food  florist    cost  \n",
       "0          0.0        0.0            0.0      0.0   62.09  \n",
       "1          0.0        0.0            0.0      0.0  121.80  \n",
       "2          0.0        0.0            0.0      0.0   83.51  \n",
       "3          0.0        0.0            0.0      0.0   66.78  \n",
       "4          1.0        1.0            1.0      1.0  111.51  "
      ]
     },
     "execution_count": 4,
     "metadata": {},
     "output_type": "execute_result"
    }
   ],
   "source": [
    "df.head()"
   ]
  },
  {
   "cell_type": "code",
   "execution_count": 5,
   "id": "b1f85e9e",
   "metadata": {
    "execution": {
     "iopub.execute_input": "2023-03-29T09:59:41.612507Z",
     "iopub.status.busy": "2023-03-29T09:59:41.612048Z",
     "iopub.status.idle": "2023-03-29T09:59:41.621858Z",
     "shell.execute_reply": "2023-03-29T09:59:41.620602Z"
    },
    "papermill": {
     "duration": 0.027537,
     "end_time": "2023-03-29T09:59:41.624488",
     "exception": false,
     "start_time": "2023-03-29T09:59:41.596951",
     "status": "completed"
    },
    "tags": []
   },
   "outputs": [
    {
     "data": {
      "text/plain": [
       "(360336, 17)"
      ]
     },
     "execution_count": 5,
     "metadata": {},
     "output_type": "execute_result"
    }
   ],
   "source": [
    "df.shape"
   ]
  },
  {
   "cell_type": "code",
   "execution_count": 6,
   "id": "6dd03bec",
   "metadata": {
    "execution": {
     "iopub.execute_input": "2023-03-29T09:59:41.653672Z",
     "iopub.status.busy": "2023-03-29T09:59:41.653223Z",
     "iopub.status.idle": "2023-03-29T09:59:41.675380Z",
     "shell.execute_reply": "2023-03-29T09:59:41.674061Z"
    },
    "papermill": {
     "duration": 0.03999,
     "end_time": "2023-03-29T09:59:41.678030",
     "exception": false,
     "start_time": "2023-03-29T09:59:41.638040",
     "status": "completed"
    },
    "tags": []
   },
   "outputs": [
    {
     "data": {
      "text/plain": [
       "id                            0\n",
       "store_sales(in millions)      0\n",
       "unit_sales(in millions)       0\n",
       "total_children                0\n",
       "num_children_at_home          0\n",
       "avg_cars_at home(approx).1    0\n",
       "gross_weight                  0\n",
       "recyclable_package            0\n",
       "low_fat                       0\n",
       "units_per_case                0\n",
       "store_sqft                    0\n",
       "coffee_bar                    0\n",
       "video_store                   0\n",
       "salad_bar                     0\n",
       "prepared_food                 0\n",
       "florist                       0\n",
       "cost                          0\n",
       "dtype: int64"
      ]
     },
     "execution_count": 6,
     "metadata": {},
     "output_type": "execute_result"
    }
   ],
   "source": [
    "df.isnull().sum()"
   ]
  },
  {
   "cell_type": "code",
   "execution_count": 7,
   "id": "838b0548",
   "metadata": {
    "execution": {
     "iopub.execute_input": "2023-03-29T09:59:41.706897Z",
     "iopub.status.busy": "2023-03-29T09:59:41.706514Z",
     "iopub.status.idle": "2023-03-29T09:59:41.748608Z",
     "shell.execute_reply": "2023-03-29T09:59:41.747136Z"
    },
    "papermill": {
     "duration": 0.060345,
     "end_time": "2023-03-29T09:59:41.751789",
     "exception": false,
     "start_time": "2023-03-29T09:59:41.691444",
     "status": "completed"
    },
    "tags": []
   },
   "outputs": [
    {
     "name": "stdout",
     "output_type": "stream",
     "text": [
      "<class 'pandas.core.frame.DataFrame'>\n",
      "RangeIndex: 360336 entries, 0 to 360335\n",
      "Data columns (total 17 columns):\n",
      " #   Column                      Non-Null Count   Dtype  \n",
      "---  ------                      --------------   -----  \n",
      " 0   id                          360336 non-null  int64  \n",
      " 1   store_sales(in millions)    360336 non-null  float64\n",
      " 2   unit_sales(in millions)     360336 non-null  float64\n",
      " 3   total_children              360336 non-null  float64\n",
      " 4   num_children_at_home        360336 non-null  float64\n",
      " 5   avg_cars_at home(approx).1  360336 non-null  float64\n",
      " 6   gross_weight                360336 non-null  float64\n",
      " 7   recyclable_package          360336 non-null  float64\n",
      " 8   low_fat                     360336 non-null  float64\n",
      " 9   units_per_case              360336 non-null  float64\n",
      " 10  store_sqft                  360336 non-null  float64\n",
      " 11  coffee_bar                  360336 non-null  float64\n",
      " 12  video_store                 360336 non-null  float64\n",
      " 13  salad_bar                   360336 non-null  float64\n",
      " 14  prepared_food               360336 non-null  float64\n",
      " 15  florist                     360336 non-null  float64\n",
      " 16  cost                        360336 non-null  float64\n",
      "dtypes: float64(16), int64(1)\n",
      "memory usage: 46.7 MB\n"
     ]
    }
   ],
   "source": [
    "df.info()"
   ]
  },
  {
   "cell_type": "code",
   "execution_count": 8,
   "id": "ac186515",
   "metadata": {
    "execution": {
     "iopub.execute_input": "2023-03-29T09:59:41.781261Z",
     "iopub.status.busy": "2023-03-29T09:59:41.780866Z",
     "iopub.status.idle": "2023-03-29T09:59:41.983232Z",
     "shell.execute_reply": "2023-03-29T09:59:41.981883Z"
    },
    "papermill": {
     "duration": 0.220545,
     "end_time": "2023-03-29T09:59:41.986140",
     "exception": false,
     "start_time": "2023-03-29T09:59:41.765595",
     "status": "completed"
    },
    "tags": []
   },
   "outputs": [
    {
     "data": {
      "text/plain": [
       "0"
      ]
     },
     "execution_count": 8,
     "metadata": {},
     "output_type": "execute_result"
    }
   ],
   "source": [
    "df.duplicated().sum()"
   ]
  },
  {
   "cell_type": "code",
   "execution_count": 9,
   "id": "7999a083",
   "metadata": {
    "execution": {
     "iopub.execute_input": "2023-03-29T09:59:42.015917Z",
     "iopub.status.busy": "2023-03-29T09:59:42.015485Z",
     "iopub.status.idle": "2023-03-29T09:59:42.747774Z",
     "shell.execute_reply": "2023-03-29T09:59:42.746840Z"
    },
    "papermill": {
     "duration": 0.750104,
     "end_time": "2023-03-29T09:59:42.750285",
     "exception": false,
     "start_time": "2023-03-29T09:59:42.000181",
     "status": "completed"
    },
    "tags": []
   },
   "outputs": [
    {
     "data": {
      "text/plain": [
       "<AxesSubplot:xlabel='cost', ylabel='Count'>"
      ]
     },
     "execution_count": 9,
     "metadata": {},
     "output_type": "execute_result"
    },
    {
     "data": {
      "image/png": "[encoded data removed]",
      "text/plain": [
       "<Figure size 640x480 with 1 Axes>"
      ]
     },
     "metadata": {},
     "output_type": "display_data"
    }
   ],
   "source": [
    "sns.histplot(df['cost'])"
   ]
  },
  {
   "cell_type": "code",
   "execution_count": 10,
   "id": "544df561",
   "metadata": {
    "execution": {
     "iopub.execute_input": "2023-03-29T09:59:42.781413Z",
     "iopub.status.busy": "2023-03-29T09:59:42.780432Z",
     "iopub.status.idle": "2023-03-29T09:59:42.873856Z",
     "shell.execute_reply": "2023-03-29T09:59:42.872365Z"
    },
    "papermill": {
     "duration": 0.111969,
     "end_time": "2023-03-29T09:59:42.876675",
     "exception": false,
     "start_time": "2023-03-29T09:59:42.764706",
     "status": "completed"
    },
    "tags": []
   },
   "outputs": [
    {
     "data": {
      "text/plain": [
       "id                            360336\n",
       "store_sales(in millions)        1044\n",
       "unit_sales(in millions)            6\n",
       "total_children                     6\n",
       "num_children_at_home               6\n",
       "avg_cars_at home(approx).1         5\n",
       "gross_weight                     384\n",
       "recyclable_package                 2\n",
       "low_fat                            2\n",
       "units_per_case                    36\n",
       "store_sqft                        20\n",
       "coffee_bar                         2\n",
       "video_store                        2\n",
       "salad_bar                          2\n",
       "prepared_food                      2\n",
       "florist                            2\n",
       "cost                             328\n",
       "dtype: int64"
      ]
     },
     "execution_count": 10,
     "metadata": {},
     "output_type": "execute_result"
    }
   ],
   "source": [
    "df.nunique()"
   ]
  },
  {
   "cell_type": "code",
   "execution_count": 11,
   "id": "f7c30021",
   "metadata": {
    "execution": {
     "iopub.execute_input": "2023-03-29T09:59:42.907517Z",
     "iopub.status.busy": "2023-03-29T09:59:42.907013Z",
     "iopub.status.idle": "2023-03-29T09:59:43.206155Z",
     "shell.execute_reply": "2023-03-29T09:59:43.204941Z"
    },
    "papermill": {
     "duration": 0.318017,
     "end_time": "2023-03-29T09:59:43.209020",
     "exception": false,
     "start_time": "2023-03-29T09:59:42.891003",
     "status": "completed"
    },
    "tags": []
   },
   "outputs": [
    {
     "data": {
      "text/html": [
       "<div>\n",
       "<style scoped>\n",
       "    .dataframe tbody tr th:only-of-type {\n",
       "        vertical-align: middle;\n",
       "    }\n",
       "\n",
       "    .dataframe tbody tr th {\n",
       "        vertical-align: top;\n",
       "    }\n",
       "\n",
       "    .dataframe thead th {\n",
       "        text-align: right;\n",
       "    }\n",
       "</style>\n",
       "<table border=\"1\" class=\"dataframe\">\n",
       "  <thead>\n",
       "    <tr style=\"text-align: right;\">\n",
       "      <th></th>\n",
       "      <th>count</th>\n",
       "      <th>mean</th>\n",
       "      <th>std</th>\n",
       "      <th>min</th>\n",
       "      <th>25%</th>\n",
       "      <th>50%</th>\n",
       "      <th>75%</th>\n",
       "      <th>max</th>\n",
       "    </tr>\n",
       "  </thead>\n",
       "  <tbody>\n",
       "    <tr>\n",
       "      <th>id</th>\n",
       "      <td>360336.0</td>\n",
       "      <td>180167.500000</td>\n",
       "      <td>104020.187637</td>\n",
       "      <td>0.00</td>\n",
       "      <td>90083.75</td>\n",
       "      <td>180167.50</td>\n",
       "      <td>270251.25</td>\n",
       "      <td>360335.00</td>\n",
       "    </tr>\n",
       "    <tr>\n",
       "      <th>store_sales(in millions)</th>\n",
       "      <td>360336.0</td>\n",
       "      <td>6.337376</td>\n",
       "      <td>3.307980</td>\n",
       "      <td>0.51</td>\n",
       "      <td>3.72</td>\n",
       "      <td>5.78</td>\n",
       "      <td>8.40</td>\n",
       "      <td>22.92</td>\n",
       "    </tr>\n",
       "    <tr>\n",
       "      <th>unit_sales(in millions)</th>\n",
       "      <td>360336.0</td>\n",
       "      <td>3.043881</td>\n",
       "      <td>0.784676</td>\n",
       "      <td>1.00</td>\n",
       "      <td>3.00</td>\n",
       "      <td>3.00</td>\n",
       "      <td>4.00</td>\n",
       "      <td>6.00</td>\n",
       "    </tr>\n",
       "    <tr>\n",
       "      <th>total_children</th>\n",
       "      <td>360336.0</td>\n",
       "      <td>2.456482</td>\n",
       "      <td>1.488992</td>\n",
       "      <td>0.00</td>\n",
       "      <td>1.00</td>\n",
       "      <td>2.00</td>\n",
       "      <td>4.00</td>\n",
       "      <td>5.00</td>\n",
       "    </tr>\n",
       "    <tr>\n",
       "      <th>num_children_at_home</th>\n",
       "      <td>360336.0</td>\n",
       "      <td>0.689390</td>\n",
       "      <td>1.214732</td>\n",
       "      <td>0.00</td>\n",
       "      <td>0.00</td>\n",
       "      <td>0.00</td>\n",
       "      <td>1.00</td>\n",
       "      <td>5.00</td>\n",
       "    </tr>\n",
       "    <tr>\n",
       "      <th>avg_cars_at home(approx).1</th>\n",
       "      <td>360336.0</td>\n",
       "      <td>2.203813</td>\n",
       "      <td>1.084293</td>\n",
       "      <td>0.00</td>\n",
       "      <td>1.00</td>\n",
       "      <td>2.00</td>\n",
       "      <td>3.00</td>\n",
       "      <td>4.00</td>\n",
       "    </tr>\n",
       "    <tr>\n",
       "      <th>gross_weight</th>\n",
       "      <td>360336.0</td>\n",
       "      <td>13.822071</td>\n",
       "      <td>4.614792</td>\n",
       "      <td>6.00</td>\n",
       "      <td>9.71</td>\n",
       "      <td>13.60</td>\n",
       "      <td>17.70</td>\n",
       "      <td>21.90</td>\n",
       "    </tr>\n",
       "    <tr>\n",
       "      <th>recyclable_package</th>\n",
       "      <td>360336.0</td>\n",
       "      <td>0.568086</td>\n",
       "      <td>0.495343</td>\n",
       "      <td>0.00</td>\n",
       "      <td>0.00</td>\n",
       "      <td>1.00</td>\n",
       "      <td>1.00</td>\n",
       "      <td>1.00</td>\n",
       "    </tr>\n",
       "    <tr>\n",
       "      <th>low_fat</th>\n",
       "      <td>360336.0</td>\n",
       "      <td>0.327797</td>\n",
       "      <td>0.469411</td>\n",
       "      <td>0.00</td>\n",
       "      <td>0.00</td>\n",
       "      <td>0.00</td>\n",
       "      <td>1.00</td>\n",
       "      <td>1.00</td>\n",
       "    </tr>\n",
       "    <tr>\n",
       "      <th>units_per_case</th>\n",
       "      <td>360336.0</td>\n",
       "      <td>18.972706</td>\n",
       "      <td>10.212912</td>\n",
       "      <td>1.00</td>\n",
       "      <td>10.00</td>\n",
       "      <td>20.00</td>\n",
       "      <td>28.00</td>\n",
       "      <td>36.00</td>\n",
       "    </tr>\n",
       "    <tr>\n",
       "      <th>store_sqft</th>\n",
       "      <td>360336.0</td>\n",
       "      <td>28180.333442</td>\n",
       "      <td>5968.874074</td>\n",
       "      <td>20319.00</td>\n",
       "      <td>23593.00</td>\n",
       "      <td>27694.00</td>\n",
       "      <td>33858.00</td>\n",
       "      <td>39696.00</td>\n",
       "    </tr>\n",
       "    <tr>\n",
       "      <th>coffee_bar</th>\n",
       "      <td>360336.0</td>\n",
       "      <td>0.564839</td>\n",
       "      <td>0.495779</td>\n",
       "      <td>0.00</td>\n",
       "      <td>0.00</td>\n",
       "      <td>1.00</td>\n",
       "      <td>1.00</td>\n",
       "      <td>1.00</td>\n",
       "    </tr>\n",
       "    <tr>\n",
       "      <th>video_store</th>\n",
       "      <td>360336.0</td>\n",
       "      <td>0.277394</td>\n",
       "      <td>0.447713</td>\n",
       "      <td>0.00</td>\n",
       "      <td>0.00</td>\n",
       "      <td>0.00</td>\n",
       "      <td>1.00</td>\n",
       "      <td>1.00</td>\n",
       "    </tr>\n",
       "    <tr>\n",
       "      <th>salad_bar</th>\n",
       "      <td>360336.0</td>\n",
       "      <td>0.504807</td>\n",
       "      <td>0.499978</td>\n",
       "      <td>0.00</td>\n",
       "      <td>0.00</td>\n",
       "      <td>1.00</td>\n",
       "      <td>1.00</td>\n",
       "      <td>1.00</td>\n",
       "    </tr>\n",
       "    <tr>\n",
       "      <th>prepared_food</th>\n",
       "      <td>360336.0</td>\n",
       "      <td>0.504832</td>\n",
       "      <td>0.499977</td>\n",
       "      <td>0.00</td>\n",
       "      <td>0.00</td>\n",
       "      <td>1.00</td>\n",
       "      <td>1.00</td>\n",
       "      <td>1.00</td>\n",
       "    </tr>\n",
       "    <tr>\n",
       "      <th>florist</th>\n",
       "      <td>360336.0</td>\n",
       "      <td>0.503191</td>\n",
       "      <td>0.499991</td>\n",
       "      <td>0.00</td>\n",
       "      <td>0.00</td>\n",
       "      <td>1.00</td>\n",
       "      <td>1.00</td>\n",
       "      <td>1.00</td>\n",
       "    </tr>\n",
       "    <tr>\n",
       "      <th>cost</th>\n",
       "      <td>360336.0</td>\n",
       "      <td>99.614729</td>\n",
       "      <td>29.939435</td>\n",
       "      <td>50.79</td>\n",
       "      <td>70.32</td>\n",
       "      <td>98.81</td>\n",
       "      <td>126.62</td>\n",
       "      <td>149.75</td>\n",
       "    </tr>\n",
       "  </tbody>\n",
       "</table>\n",
       "</div>"
      ],
      "text/plain": [
       "                               count           mean            std       min  \\\n",
       "id                          360336.0  180167.500000  104020.187637      0.00   \n",
       "store_sales(in millions)    360336.0       6.337376       3.307980      0.51   \n",
       "unit_sales(in millions)     360336.0       3.043881       0.784676      1.00   \n",
       "total_children              360336.0       2.456482       1.488992      0.00   \n",
       "num_children_at_home        360336.0       0.689390       1.214732      0.00   \n",
       "avg_cars_at home(approx).1  360336.0       2.203813       1.084293      0.00   \n",
       "gross_weight                360336.0      13.822071       4.614792      6.00   \n",
       "recyclable_package          360336.0       0.568086       0.495343      0.00   \n",
       "low_fat                     360336.0       0.327797       0.469411      0.00   \n",
       "units_per_case              360336.0      18.972706      10.212912      1.00   \n",
       "store_sqft                  360336.0   28180.333442    5968.874074  20319.00   \n",
       "coffee_bar                  360336.0       0.564839       0.495779      0.00   \n",
       "video_store                 360336.0       0.277394       0.447713      0.00   \n",
       "salad_bar                   360336.0       0.504807       0.499978      0.00   \n",
       "prepared_food               360336.0       0.504832       0.499977      0.00   \n",
       "florist                     360336.0       0.503191       0.499991      0.00   \n",
       "cost                        360336.0      99.614729      29.939435     50.79   \n",
       "\n",
       "                                 25%        50%        75%        max  \n",
       "id                          90083.75  180167.50  270251.25  360335.00  \n",
       "store_sales(in millions)        3.72       5.78       8.40      22.92  \n",
       "unit_sales(in millions)         3.00       3.00       4.00       6.00  \n",
       "total_children                  1.00       2.00       4.00       5.00  \n",
       "num_children_at_home            0.00       0.00       1.00       5.00  \n",
       "avg_cars_at home(approx).1      1.00       2.00       3.00       4.00  \n",
       "gross_weight                    9.71      13.60      17.70      21.90  \n",
       "recyclable_package              0.00       1.00       1.00       1.00  \n",
       "low_fat                         0.00       0.00       1.00       1.00  \n",
       "units_per_case                 10.00      20.00      28.00      36.00  \n",
       "store_sqft                  23593.00   27694.00   33858.00   39696.00  \n",
       "coffee_bar                      0.00       1.00       1.00       1.00  \n",
       "video_store                     0.00       0.00       1.00       1.00  \n",
       "salad_bar                       0.00       1.00       1.00       1.00  \n",
       "prepared_food                   0.00       1.00       1.00       1.00  \n",
       "florist                         0.00       1.00       1.00       1.00  \n",
       "cost                           70.32      98.81     126.62     149.75  "
      ]
     },
     "execution_count": 11,
     "metadata": {},
     "output_type": "execute_result"
    }
   ],
   "source": [
    "df.describe().T"
   ]
  },
  {
   "cell_type": "code",
   "execution_count": 12,
   "id": "05c699a8",
   "metadata": {
    "execution": {
     "iopub.execute_input": "2023-03-29T09:59:43.240944Z",
     "iopub.status.busy": "2023-03-29T09:59:43.239901Z",
     "iopub.status.idle": "2023-03-29T09:59:43.582818Z",
     "shell.execute_reply": "2023-03-29T09:59:43.581468Z"
    },
    "papermill": {
     "duration": 0.361553,
     "end_time": "2023-03-29T09:59:43.585459",
     "exception": false,
     "start_time": "2023-03-29T09:59:43.223906",
     "status": "completed"
    },
    "tags": []
   },
   "outputs": [
    {
     "data": {
      "text/plain": [
       "id                           -0.000611\n",
       "store_sales(in millions)     -0.012387\n",
       "unit_sales(in millions)      -0.026509\n",
       "total_children               -0.007482\n",
       "num_children_at_home         -0.001727\n",
       "avg_cars_at home(approx).1    0.027098\n",
       "gross_weight                 -0.000116\n",
       "recyclable_package           -0.001455\n",
       "low_fat                      -0.001975\n",
       "units_per_case                0.000180\n",
       "store_sqft                   -0.049201\n",
       "coffee_bar                   -0.052086\n",
       "video_store                  -0.106786\n",
       "salad_bar                    -0.098810\n",
       "prepared_food                -0.098843\n",
       "florist                      -0.110414\n",
       "cost                          1.000000\n",
       "Name: cost, dtype: float64"
      ]
     },
     "execution_count": 12,
     "metadata": {},
     "output_type": "execute_result"
    }
   ],
   "source": [
    "df.corr()['cost']"
   ]
  },
  {
   "cell_type": "code",
   "execution_count": 13,
   "id": "bc7161a5",
   "metadata": {
    "execution": {
     "iopub.execute_input": "2023-03-29T09:59:43.617769Z",
     "iopub.status.busy": "2023-03-29T09:59:43.616464Z",
     "iopub.status.idle": "2023-03-29T09:59:43.640337Z",
     "shell.execute_reply": "2023-03-29T09:59:43.639242Z"
    },
    "papermill": {
     "duration": 0.042685,
     "end_time": "2023-03-29T09:59:43.642918",
     "exception": false,
     "start_time": "2023-03-29T09:59:43.600233",
     "status": "completed"
    },
    "tags": []
   },
   "outputs": [],
   "source": [
    "df.drop(columns='id', axis=1, inplace=True)"
   ]
  },
  {
   "cell_type": "markdown",
   "id": "19e1f58e",
   "metadata": {
    "papermill": {
     "duration": 0.014344,
     "end_time": "2023-03-29T09:59:43.672043",
     "exception": false,
     "start_time": "2023-03-29T09:59:43.657699",
     "status": "completed"
    },
    "tags": []
   },
   "source": [
    "# Feature Engineering"
   ]
  },
  {
   "cell_type": "code",
   "execution_count": 14,
   "id": "598ba649",
   "metadata": {
    "execution": {
     "iopub.execute_input": "2023-03-29T09:59:43.704051Z",
     "iopub.status.busy": "2023-03-29T09:59:43.703077Z",
     "iopub.status.idle": "2023-03-29T09:59:43.720942Z",
     "shell.execute_reply": "2023-03-29T09:59:43.719524Z"
    },
    "papermill": {
     "duration": 0.037056,
     "end_time": "2023-03-29T09:59:43.724070",
     "exception": false,
     "start_time": "2023-03-29T09:59:43.687014",
     "status": "completed"
    },
    "tags": []
   },
   "outputs": [],
   "source": [
    "df['children_ratio'] = df['total_children'] / df['num_children_at_home']\n",
    "df['children_ratio'] = df['children_ratio'].replace([np.inf, -np.inf], 10)\n",
    "df['facilities']= df['coffee_bar'] + df['video_store'] + df['salad_bar'] + df['florist']"
   ]
  },
  {
   "cell_type": "code",
   "execution_count": 15,
   "id": "7a93f40a",
   "metadata": {
    "execution": {
     "iopub.execute_input": "2023-03-29T09:59:43.757425Z",
     "iopub.status.busy": "2023-03-29T09:59:43.756123Z",
     "iopub.status.idle": "2023-03-29T09:59:43.940616Z",
     "shell.execute_reply": "2023-03-29T09:59:43.939255Z"
    },
    "papermill": {
     "duration": 0.204358,
     "end_time": "2023-03-29T09:59:43.943718",
     "exception": false,
     "start_time": "2023-03-29T09:59:43.739360",
     "status": "completed"
    },
    "tags": []
   },
   "outputs": [],
   "source": [
    "cat=['total_children',\n",
    "     'num_children_at_home',\n",
    "     'avg_cars_at home(approx).1',\n",
    "     'recyclable_package',\n",
    "     'low_fat',\n",
    "     'coffee_bar',\n",
    "     'video_store',\n",
    "     'salad_bar',\n",
    "     'prepared_food',\n",
    "     'florist']\n",
    "df=pd.get_dummies(df, columns=cat)"
   ]
  },
  {
   "cell_type": "markdown",
   "id": "3271f719",
   "metadata": {
    "papermill": {
     "duration": 0.014529,
     "end_time": "2023-03-29T09:59:43.973367",
     "exception": false,
     "start_time": "2023-03-29T09:59:43.958838",
     "status": "completed"
    },
    "tags": []
   },
   "source": [
    "## Train test split"
   ]
  },
  {
   "cell_type": "code",
   "execution_count": 16,
   "id": "e9f0f5b4",
   "metadata": {
    "execution": {
     "iopub.execute_input": "2023-03-29T09:59:44.005282Z",
     "iopub.status.busy": "2023-03-29T09:59:44.004883Z",
     "iopub.status.idle": "2023-03-29T09:59:44.037033Z",
     "shell.execute_reply": "2023-03-29T09:59:44.035586Z"
    },
    "papermill": {
     "duration": 0.051528,
     "end_time": "2023-03-29T09:59:44.039757",
     "exception": false,
     "start_time": "2023-03-29T09:59:43.988229",
     "status": "completed"
    },
    "tags": []
   },
   "outputs": [],
   "source": [
    "X= df.drop(columns='cost')\n",
    "y= df['cost']"
   ]
  },
  {
   "cell_type": "markdown",
   "id": "513897fe",
   "metadata": {
    "papermill": {
     "duration": 0.014857,
     "end_time": "2023-03-29T09:59:44.069552",
     "exception": false,
     "start_time": "2023-03-29T09:59:44.054695",
     "status": "completed"
    },
    "tags": []
   },
   "source": [
    "## Box-Cox transformation"
   ]
  },
  {
   "cell_type": "code",
   "execution_count": 17,
   "id": "03fc4eb3",
   "metadata": {
    "execution": {
     "iopub.execute_input": "2023-03-29T09:59:44.102573Z",
     "iopub.status.busy": "2023-03-29T09:59:44.102093Z",
     "iopub.status.idle": "2023-03-29T09:59:44.107555Z",
     "shell.execute_reply": "2023-03-29T09:59:44.105957Z"
    },
    "papermill": {
     "duration": 0.025361,
     "end_time": "2023-03-29T09:59:44.110073",
     "exception": false,
     "start_time": "2023-03-29T09:59:44.084712",
     "status": "completed"
    },
    "tags": []
   },
   "outputs": [],
   "source": [
    "#y_fitted, fitted_lambda = stats.boxcox(y)"
   ]
  },
  {
   "cell_type": "code",
   "execution_count": 18,
   "id": "4d69b74a",
   "metadata": {
    "execution": {
     "iopub.execute_input": "2023-03-29T09:59:44.143322Z",
     "iopub.status.busy": "2023-03-29T09:59:44.142165Z",
     "iopub.status.idle": "2023-03-29T09:59:44.227731Z",
     "shell.execute_reply": "2023-03-29T09:59:44.226272Z"
    },
    "papermill": {
     "duration": 0.104981,
     "end_time": "2023-03-29T09:59:44.230620",
     "exception": false,
     "start_time": "2023-03-29T09:59:44.125639",
     "status": "completed"
    },
    "tags": []
   },
   "outputs": [],
   "source": [
    "X_train, X_val, y_train, y_val= train_test_split(X,y, train_size=0.95, random_state=38)"
   ]
  },
  {
   "cell_type": "markdown",
   "id": "77b19b18",
   "metadata": {
    "papermill": {
     "duration": 0.01441,
     "end_time": "2023-03-29T09:59:44.259917",
     "exception": false,
     "start_time": "2023-03-29T09:59:44.245507",
     "status": "completed"
    },
    "tags": []
   },
   "source": [
    "# Model"
   ]
  },
  {
   "cell_type": "code",
   "execution_count": 19,
   "id": "9ad0c0bc",
   "metadata": {
    "execution": {
     "iopub.execute_input": "2023-03-29T09:59:44.293717Z",
     "iopub.status.busy": "2023-03-29T09:59:44.293212Z",
     "iopub.status.idle": "2023-03-29T10:00:13.864777Z",
     "shell.execute_reply": "2023-03-29T10:00:13.863451Z"
    },
    "papermill": {
     "duration": 29.592163,
     "end_time": "2023-03-29T10:00:13.868309",
     "exception": false,
     "start_time": "2023-03-29T09:59:44.276146",
     "status": "completed"
    },
    "tags": []
   },
   "outputs": [],
   "source": [
    "from catboost import CatBoostRegressor\n",
    "cbr = CatBoostRegressor(verbose=0)\n",
    "cbr.fit(X_train, y_train)\n",
    "pred1 = cbr.predict(X_val)"
   ]
  },
  {
   "cell_type": "code",
   "execution_count": 20,
   "id": "3039467a",
   "metadata": {
    "execution": {
     "iopub.execute_input": "2023-03-29T10:00:13.900137Z",
     "iopub.status.busy": "2023-03-29T10:00:13.899263Z",
     "iopub.status.idle": "2023-03-29T10:00:13.966699Z",
     "shell.execute_reply": "2023-03-29T10:00:13.965214Z"
    },
    "papermill": {
     "duration": 0.086505,
     "end_time": "2023-03-29T10:00:13.969482",
     "exception": false,
     "start_time": "2023-03-29T10:00:13.882977",
     "status": "completed"
    },
    "tags": []
   },
   "outputs": [
    {
     "name": "stdout",
     "output_type": "stream",
     "text": [
      "0.1189071773974083\n"
     ]
    }
   ],
   "source": [
    "print(cbr.score(X_val, y_val))"
   ]
  },
  {
   "cell_type": "code",
   "execution_count": 21,
   "id": "79d20b07",
   "metadata": {
    "execution": {
     "iopub.execute_input": "2023-03-29T10:00:14.001854Z",
     "iopub.status.busy": "2023-03-29T10:00:14.000529Z",
     "iopub.status.idle": "2023-03-29T10:00:14.010874Z",
     "shell.execute_reply": "2023-03-29T10:00:14.009455Z"
    },
    "papermill": {
     "duration": 0.029563,
     "end_time": "2023-03-29T10:00:14.013775",
     "exception": false,
     "start_time": "2023-03-29T10:00:13.984212",
     "status": "completed"
    },
    "tags": []
   },
   "outputs": [
    {
     "data": {
      "text/plain": [
       "23.816267077878383"
      ]
     },
     "execution_count": 21,
     "metadata": {},
     "output_type": "execute_result"
    }
   ],
   "source": [
    "mean_absolute_error(pred1,y_val)"
   ]
  },
  {
   "cell_type": "code",
   "execution_count": 22,
   "id": "bb3e12be",
   "metadata": {
    "execution": {
     "iopub.execute_input": "2023-03-29T10:00:14.046047Z",
     "iopub.status.busy": "2023-03-29T10:00:14.044893Z",
     "iopub.status.idle": "2023-03-29T10:00:14.056436Z",
     "shell.execute_reply": "2023-03-29T10:00:14.055187Z"
    },
    "papermill": {
     "duration": 0.030344,
     "end_time": "2023-03-29T10:00:14.059040",
     "exception": false,
     "start_time": "2023-03-29T10:00:14.028696",
     "status": "completed"
    },
    "tags": []
   },
   "outputs": [
    {
     "data": {
      "text/plain": [
       "0.29877135516929954"
      ]
     },
     "execution_count": 22,
     "metadata": {},
     "output_type": "execute_result"
    }
   ],
   "source": [
    "mean_squared_log_error(pred1,y_val, squared=False)"
   ]
  },
  {
   "cell_type": "code",
   "execution_count": 23,
   "id": "c3dbbab5",
   "metadata": {
    "execution": {
     "iopub.execute_input": "2023-03-29T10:00:14.091416Z",
     "iopub.status.busy": "2023-03-29T10:00:14.090947Z",
     "iopub.status.idle": "2023-03-29T10:00:14.103972Z",
     "shell.execute_reply": "2023-03-29T10:00:14.102538Z"
    },
    "papermill": {
     "duration": 0.032027,
     "end_time": "2023-03-29T10:00:14.106716",
     "exception": false,
     "start_time": "2023-03-29T10:00:14.074689",
     "status": "completed"
    },
    "tags": []
   },
   "outputs": [
    {
     "data": {
      "text/html": [
       "<div>\n",
       "<style scoped>\n",
       "    .dataframe tbody tr th:only-of-type {\n",
       "        vertical-align: middle;\n",
       "    }\n",
       "\n",
       "    .dataframe tbody tr th {\n",
       "        vertical-align: top;\n",
       "    }\n",
       "\n",
       "    .dataframe thead th {\n",
       "        text-align: right;\n",
       "    }\n",
       "</style>\n",
       "<table border=\"1\" class=\"dataframe\">\n",
       "  <thead>\n",
       "    <tr style=\"text-align: right;\">\n",
       "      <th></th>\n",
       "      <th>0</th>\n",
       "    </tr>\n",
       "    <tr>\n",
       "      <th>cost</th>\n",
       "      <th></th>\n",
       "    </tr>\n",
       "  </thead>\n",
       "  <tbody>\n",
       "    <tr>\n",
       "      <th>97.45</th>\n",
       "      <td>95.345770</td>\n",
       "    </tr>\n",
       "    <tr>\n",
       "      <th>118.36</th>\n",
       "      <td>107.947156</td>\n",
       "    </tr>\n",
       "    <tr>\n",
       "      <th>57.52</th>\n",
       "      <td>94.519318</td>\n",
       "    </tr>\n",
       "    <tr>\n",
       "      <th>54.11</th>\n",
       "      <td>84.499244</td>\n",
       "    </tr>\n",
       "    <tr>\n",
       "      <th>76.88</th>\n",
       "      <td>96.068373</td>\n",
       "    </tr>\n",
       "    <tr>\n",
       "      <th>147.82</th>\n",
       "      <td>124.156613</td>\n",
       "    </tr>\n",
       "    <tr>\n",
       "      <th>135.92</th>\n",
       "      <td>97.832514</td>\n",
       "    </tr>\n",
       "    <tr>\n",
       "      <th>89.90</th>\n",
       "      <td>116.752291</td>\n",
       "    </tr>\n",
       "    <tr>\n",
       "      <th>91.28</th>\n",
       "      <td>113.894624</td>\n",
       "    </tr>\n",
       "    <tr>\n",
       "      <th>59.86</th>\n",
       "      <td>89.559790</td>\n",
       "    </tr>\n",
       "  </tbody>\n",
       "</table>\n",
       "</div>"
      ],
      "text/plain": [
       "                 0\n",
       "cost              \n",
       "97.45    95.345770\n",
       "118.36  107.947156\n",
       "57.52    94.519318\n",
       "54.11    84.499244\n",
       "76.88    96.068373\n",
       "147.82  124.156613\n",
       "135.92   97.832514\n",
       "89.90   116.752291\n",
       "91.28   113.894624\n",
       "59.86    89.559790"
      ]
     },
     "execution_count": 23,
     "metadata": {},
     "output_type": "execute_result"
    }
   ],
   "source": [
    "df_check1=pd.DataFrame(pred1,y_val)\n",
    "df_check1.head(10)"
   ]
  },
  {
   "cell_type": "code",
   "execution_count": 24,
   "id": "d84c27ee",
   "metadata": {
    "execution": {
     "iopub.execute_input": "2023-03-29T10:00:14.140163Z",
     "iopub.status.busy": "2023-03-29T10:00:14.139285Z",
     "iopub.status.idle": "2023-03-29T10:00:43.882756Z",
     "shell.execute_reply": "2023-03-29T10:00:43.881544Z"
    },
    "papermill": {
     "duration": 29.763355,
     "end_time": "2023-03-29T10:00:43.885902",
     "exception": false,
     "start_time": "2023-03-29T10:00:14.122547",
     "status": "completed"
    },
    "tags": []
   },
   "outputs": [],
   "source": [
    "xgb=XGBRegressor(n_estimators=100, learning_rate=0.05)\n",
    "xgb.fit(X_train, y_train)\n",
    "pred2=xgb.predict(X_val)"
   ]
  },
  {
   "cell_type": "code",
   "execution_count": 25,
   "id": "98ac9ea5",
   "metadata": {
    "execution": {
     "iopub.execute_input": "2023-03-29T10:00:43.921606Z",
     "iopub.status.busy": "2023-03-29T10:00:43.921145Z",
     "iopub.status.idle": "2023-03-29T10:00:44.031028Z",
     "shell.execute_reply": "2023-03-29T10:00:44.028834Z"
    },
    "papermill": {
     "duration": 0.130917,
     "end_time": "2023-03-29T10:00:44.034952",
     "exception": false,
     "start_time": "2023-03-29T10:00:43.904035",
     "status": "completed"
    },
    "tags": []
   },
   "outputs": [
    {
     "name": "stdout",
     "output_type": "stream",
     "text": [
      "0.10104876940858565\n"
     ]
    }
   ],
   "source": [
    "print(xgb.score(X_val, y_val))"
   ]
  },
  {
   "cell_type": "code",
   "execution_count": 26,
   "id": "c708936c",
   "metadata": {
    "execution": {
     "iopub.execute_input": "2023-03-29T10:00:44.069110Z",
     "iopub.status.busy": "2023-03-29T10:00:44.067868Z",
     "iopub.status.idle": "2023-03-29T10:00:44.075797Z",
     "shell.execute_reply": "2023-03-29T10:00:44.074710Z"
    },
    "papermill": {
     "duration": 0.027191,
     "end_time": "2023-03-29T10:00:44.078299",
     "exception": false,
     "start_time": "2023-03-29T10:00:44.051108",
     "status": "completed"
    },
    "tags": []
   },
   "outputs": [
    {
     "data": {
      "text/plain": [
       "24.2529595087736"
      ]
     },
     "execution_count": 26,
     "metadata": {},
     "output_type": "execute_result"
    }
   ],
   "source": [
    "mean_absolute_error(pred2,y_val)"
   ]
  },
  {
   "cell_type": "code",
   "execution_count": 27,
   "id": "8174a812",
   "metadata": {
    "execution": {
     "iopub.execute_input": "2023-03-29T10:00:44.112337Z",
     "iopub.status.busy": "2023-03-29T10:00:44.111554Z",
     "iopub.status.idle": "2023-03-29T10:00:44.124690Z",
     "shell.execute_reply": "2023-03-29T10:00:44.122981Z"
    },
    "papermill": {
     "duration": 0.033143,
     "end_time": "2023-03-29T10:00:44.127442",
     "exception": false,
     "start_time": "2023-03-29T10:00:44.094299",
     "status": "completed"
    },
    "tags": []
   },
   "outputs": [
    {
     "data": {
      "text/plain": [
       "0.3009303325900158"
      ]
     },
     "execution_count": 27,
     "metadata": {},
     "output_type": "execute_result"
    }
   ],
   "source": [
    "mean_squared_log_error(pred2,y_val, squared=False)"
   ]
  },
  {
   "cell_type": "code",
   "execution_count": 28,
   "id": "b9b167ce",
   "metadata": {
    "execution": {
     "iopub.execute_input": "2023-03-29T10:00:44.161462Z",
     "iopub.status.busy": "2023-03-29T10:00:44.160607Z",
     "iopub.status.idle": "2023-03-29T10:00:44.172694Z",
     "shell.execute_reply": "2023-03-29T10:00:44.171277Z"
    },
    "papermill": {
     "duration": 0.032209,
     "end_time": "2023-03-29T10:00:44.175280",
     "exception": false,
     "start_time": "2023-03-29T10:00:44.143071",
     "status": "completed"
    },
    "tags": []
   },
   "outputs": [
    {
     "data": {
      "text/html": [
       "<div>\n",
       "<style scoped>\n",
       "    .dataframe tbody tr th:only-of-type {\n",
       "        vertical-align: middle;\n",
       "    }\n",
       "\n",
       "    .dataframe tbody tr th {\n",
       "        vertical-align: top;\n",
       "    }\n",
       "\n",
       "    .dataframe thead th {\n",
       "        text-align: right;\n",
       "    }\n",
       "</style>\n",
       "<table border=\"1\" class=\"dataframe\">\n",
       "  <thead>\n",
       "    <tr style=\"text-align: right;\">\n",
       "      <th></th>\n",
       "      <th>0</th>\n",
       "    </tr>\n",
       "    <tr>\n",
       "      <th>cost</th>\n",
       "      <th></th>\n",
       "    </tr>\n",
       "  </thead>\n",
       "  <tbody>\n",
       "    <tr>\n",
       "      <th>97.45</th>\n",
       "      <td>96.833092</td>\n",
       "    </tr>\n",
       "    <tr>\n",
       "      <th>118.36</th>\n",
       "      <td>107.497292</td>\n",
       "    </tr>\n",
       "    <tr>\n",
       "      <th>57.52</th>\n",
       "      <td>95.528702</td>\n",
       "    </tr>\n",
       "    <tr>\n",
       "      <th>54.11</th>\n",
       "      <td>86.580841</td>\n",
       "    </tr>\n",
       "    <tr>\n",
       "      <th>76.88</th>\n",
       "      <td>92.521858</td>\n",
       "    </tr>\n",
       "    <tr>\n",
       "      <th>147.82</th>\n",
       "      <td>120.165054</td>\n",
       "    </tr>\n",
       "    <tr>\n",
       "      <th>135.92</th>\n",
       "      <td>96.291382</td>\n",
       "    </tr>\n",
       "    <tr>\n",
       "      <th>89.90</th>\n",
       "      <td>111.055954</td>\n",
       "    </tr>\n",
       "    <tr>\n",
       "      <th>91.28</th>\n",
       "      <td>108.224594</td>\n",
       "    </tr>\n",
       "    <tr>\n",
       "      <th>59.86</th>\n",
       "      <td>87.449829</td>\n",
       "    </tr>\n",
       "  </tbody>\n",
       "</table>\n",
       "</div>"
      ],
      "text/plain": [
       "                 0\n",
       "cost              \n",
       "97.45    96.833092\n",
       "118.36  107.497292\n",
       "57.52    95.528702\n",
       "54.11    86.580841\n",
       "76.88    92.521858\n",
       "147.82  120.165054\n",
       "135.92   96.291382\n",
       "89.90   111.055954\n",
       "91.28   108.224594\n",
       "59.86    87.449829"
      ]
     },
     "execution_count": 28,
     "metadata": {},
     "output_type": "execute_result"
    }
   ],
   "source": [
    "df_check2=pd.DataFrame(pred2,y_val)\n",
    "df_check2.head(10)"
   ]
  },
  {
   "cell_type": "code",
   "execution_count": 29,
   "id": "33728aa2",
   "metadata": {
    "execution": {
     "iopub.execute_input": "2023-03-29T10:00:44.210049Z",
     "iopub.status.busy": "2023-03-29T10:00:44.209532Z",
     "iopub.status.idle": "2023-03-29T10:00:47.334909Z",
     "shell.execute_reply": "2023-03-29T10:00:47.333497Z"
    },
    "papermill": {
     "duration": 3.14596,
     "end_time": "2023-03-29T10:00:47.337987",
     "exception": false,
     "start_time": "2023-03-29T10:00:44.192027",
     "status": "completed"
    },
    "tags": []
   },
   "outputs": [],
   "source": [
    "from lightgbm import LGBMRegressor\n",
    "lgbm = LGBMRegressor()\n",
    "lgbm.fit(X_train, y_train)\n",
    "pred3 = lgbm.predict(X_val)"
   ]
  },
  {
   "cell_type": "code",
   "execution_count": 30,
   "id": "8b959d94",
   "metadata": {
    "execution": {
     "iopub.execute_input": "2023-03-29T10:00:47.372406Z",
     "iopub.status.busy": "2023-03-29T10:00:47.371934Z",
     "iopub.status.idle": "2023-03-29T10:00:47.520644Z",
     "shell.execute_reply": "2023-03-29T10:00:47.519253Z"
    },
    "papermill": {
     "duration": 0.169161,
     "end_time": "2023-03-29T10:00:47.523185",
     "exception": false,
     "start_time": "2023-03-29T10:00:47.354024",
     "status": "completed"
    },
    "tags": []
   },
   "outputs": [
    {
     "name": "stdout",
     "output_type": "stream",
     "text": [
      "0.10848609206173643\n"
     ]
    }
   ],
   "source": [
    "print(lgbm.score(X_val, y_val))"
   ]
  },
  {
   "cell_type": "code",
   "execution_count": 31,
   "id": "2ab3c775",
   "metadata": {
    "execution": {
     "iopub.execute_input": "2023-03-29T10:00:47.558426Z",
     "iopub.status.busy": "2023-03-29T10:00:47.557192Z",
     "iopub.status.idle": "2023-03-29T10:00:47.564962Z",
     "shell.execute_reply": "2023-03-29T10:00:47.564073Z"
    },
    "papermill": {
     "duration": 0.028124,
     "end_time": "2023-03-29T10:00:47.567112",
     "exception": false,
     "start_time": "2023-03-29T10:00:47.538988",
     "status": "completed"
    },
    "tags": []
   },
   "outputs": [
    {
     "data": {
      "text/plain": [
       "24.136095096070058"
      ]
     },
     "execution_count": 31,
     "metadata": {},
     "output_type": "execute_result"
    }
   ],
   "source": [
    "mean_absolute_error(pred3,y_val)"
   ]
  },
  {
   "cell_type": "code",
   "execution_count": 32,
   "id": "8904f2c6",
   "metadata": {
    "execution": {
     "iopub.execute_input": "2023-03-29T10:00:47.601300Z",
     "iopub.status.busy": "2023-03-29T10:00:47.599969Z",
     "iopub.status.idle": "2023-03-29T10:00:47.612297Z",
     "shell.execute_reply": "2023-03-29T10:00:47.611132Z"
    },
    "papermill": {
     "duration": 0.03213,
     "end_time": "2023-03-29T10:00:47.615024",
     "exception": false,
     "start_time": "2023-03-29T10:00:47.582894",
     "status": "completed"
    },
    "tags": []
   },
   "outputs": [
    {
     "data": {
      "text/plain": [
       "0.3007794986097558"
      ]
     },
     "execution_count": 32,
     "metadata": {},
     "output_type": "execute_result"
    }
   ],
   "source": [
    "mean_squared_log_error(pred3,y_val, squared=False)"
   ]
  },
  {
   "cell_type": "code",
   "execution_count": 33,
   "id": "f09952e8",
   "metadata": {
    "execution": {
     "iopub.execute_input": "2023-03-29T10:00:47.650128Z",
     "iopub.status.busy": "2023-03-29T10:00:47.648952Z",
     "iopub.status.idle": "2023-03-29T10:00:47.659895Z",
     "shell.execute_reply": "2023-03-29T10:00:47.658891Z"
    },
    "papermill": {
     "duration": 0.030966,
     "end_time": "2023-03-29T10:00:47.662446",
     "exception": false,
     "start_time": "2023-03-29T10:00:47.631480",
     "status": "completed"
    },
    "tags": []
   },
   "outputs": [
    {
     "data": {
      "text/html": [
       "<div>\n",
       "<style scoped>\n",
       "    .dataframe tbody tr th:only-of-type {\n",
       "        vertical-align: middle;\n",
       "    }\n",
       "\n",
       "    .dataframe tbody tr th {\n",
       "        vertical-align: top;\n",
       "    }\n",
       "\n",
       "    .dataframe thead th {\n",
       "        text-align: right;\n",
       "    }\n",
       "</style>\n",
       "<table border=\"1\" class=\"dataframe\">\n",
       "  <thead>\n",
       "    <tr style=\"text-align: right;\">\n",
       "      <th></th>\n",
       "      <th>0</th>\n",
       "    </tr>\n",
       "    <tr>\n",
       "      <th>cost</th>\n",
       "      <th></th>\n",
       "    </tr>\n",
       "  </thead>\n",
       "  <tbody>\n",
       "    <tr>\n",
       "      <th>97.45</th>\n",
       "      <td>96.458247</td>\n",
       "    </tr>\n",
       "    <tr>\n",
       "      <th>118.36</th>\n",
       "      <td>105.014144</td>\n",
       "    </tr>\n",
       "    <tr>\n",
       "      <th>57.52</th>\n",
       "      <td>95.841106</td>\n",
       "    </tr>\n",
       "    <tr>\n",
       "      <th>54.11</th>\n",
       "      <td>86.555563</td>\n",
       "    </tr>\n",
       "    <tr>\n",
       "      <th>76.88</th>\n",
       "      <td>93.845596</td>\n",
       "    </tr>\n",
       "    <tr>\n",
       "      <th>147.82</th>\n",
       "      <td>121.897083</td>\n",
       "    </tr>\n",
       "    <tr>\n",
       "      <th>135.92</th>\n",
       "      <td>96.472911</td>\n",
       "    </tr>\n",
       "    <tr>\n",
       "      <th>89.90</th>\n",
       "      <td>115.162800</td>\n",
       "    </tr>\n",
       "    <tr>\n",
       "      <th>91.28</th>\n",
       "      <td>108.178427</td>\n",
       "    </tr>\n",
       "    <tr>\n",
       "      <th>59.86</th>\n",
       "      <td>88.393670</td>\n",
       "    </tr>\n",
       "  </tbody>\n",
       "</table>\n",
       "</div>"
      ],
      "text/plain": [
       "                 0\n",
       "cost              \n",
       "97.45    96.458247\n",
       "118.36  105.014144\n",
       "57.52    95.841106\n",
       "54.11    86.555563\n",
       "76.88    93.845596\n",
       "147.82  121.897083\n",
       "135.92   96.472911\n",
       "89.90   115.162800\n",
       "91.28   108.178427\n",
       "59.86    88.393670"
      ]
     },
     "execution_count": 33,
     "metadata": {},
     "output_type": "execute_result"
    }
   ],
   "source": [
    "df_check3=pd.DataFrame(pred3,y_val)\n",
    "df_check3.head(10)"
   ]
  },
  {
   "cell_type": "code",
   "execution_count": 34,
   "id": "c42491d2",
   "metadata": {
    "execution": {
     "iopub.execute_input": "2023-03-29T10:00:47.696994Z",
     "iopub.status.busy": "2023-03-29T10:00:47.696548Z",
     "iopub.status.idle": "2023-03-29T10:02:46.716373Z",
     "shell.execute_reply": "2023-03-29T10:02:46.715371Z"
    },
    "jupyter": {
     "outputs_hidden": true
    },
    "papermill": {
     "duration": 119.04172,
     "end_time": "2023-03-29T10:02:46.720504",
     "exception": false,
     "start_time": "2023-03-29T10:00:47.678784",
     "status": "completed"
    },
    "tags": []
   },
   "outputs": [],
   "source": [
    "# from sklearn.model_selection import GridSearchCV\n",
    "# model = CatBoostRegressor()\n",
    "# parameters = {'depth' : [6,8,10],\n",
    "#               'learning_rate' : [0.01, 0.05, 0.1],\n",
    "#               'iterations'    : [30, 50, 100]\n",
    "#               }\n",
    "\n",
    "# grid = GridSearchCV(estimator=model, param_grid = parameters, cv = 2, n_jobs=-1)\n",
    "# grid.fit(X_train, y_train)"
   ]
  },
  {
   "cell_type": "code",
   "execution_count": 35,
   "id": "c8ba3674",
   "metadata": {
    "execution": {
     "iopub.execute_input": "2023-03-29T10:02:46.822002Z",
     "iopub.status.busy": "2023-03-29T10:02:46.820721Z",
     "iopub.status.idle": "2023-03-29T10:02:46.901719Z",
     "shell.execute_reply": "2023-03-29T10:02:46.900066Z"
    },
    "papermill": {
     "duration": 0.13523,
     "end_time": "2023-03-29T10:02:46.905279",
     "exception": false,
     "start_time": "2023-03-29T10:02:46.770049",
     "status": "completed"
    },
    "tags": []
   },
   "outputs": [],
   "source": [
    "# print(grid.best_params_)\n",
    "# print(grid.score(X_val, y_val))"
   ]
  },
  {
   "cell_type": "code",
   "execution_count": 36,
   "id": "ea15fe19",
   "metadata": {
    "execution": {
     "iopub.execute_input": "2023-03-29T10:02:47.006819Z",
     "iopub.status.busy": "2023-03-29T10:02:47.005633Z",
     "iopub.status.idle": "2023-03-29T10:02:55.327113Z",
     "shell.execute_reply": "2023-03-29T10:02:55.326051Z"
    },
    "jupyter": {
     "outputs_hidden": true
    },
    "papermill": {
     "duration": 8.375195,
     "end_time": "2023-03-29T10:02:55.329942",
     "exception": false,
     "start_time": "2023-03-29T10:02:46.954747",
     "status": "completed"
    },
    "scrolled": true,
    "tags": []
   },
   "outputs": [
    {
     "name": "stdout",
     "output_type": "stream",
     "text": [
      "0:\tlearn: 29.7777286\ttotal: 154ms\tremaining: 15.2s\n",
      "1:\tlearn: 29.6164846\ttotal: 306ms\tremaining: 15s\n",
      "2:\tlearn: 29.4830412\ttotal: 471ms\tremaining: 15.2s\n",
      "3:\tlearn: 29.3771951\ttotal: 654ms\tremaining: 15.7s\n",
      "4:\tlearn: 29.2855571\ttotal: 815ms\tremaining: 15.5s\n",
      "5:\tlearn: 29.1980765\ttotal: 973ms\tremaining: 15.2s\n",
      "6:\tlearn: 29.1226092\ttotal: 1.18s\tremaining: 15.6s\n",
      "7:\tlearn: 29.0558313\ttotal: 1.33s\tremaining: 15.4s\n",
      "8:\tlearn: 28.9964761\ttotal: 1.5s\tremaining: 15.1s\n",
      "9:\tlearn: 28.9381652\ttotal: 1.66s\tremaining: 14.9s\n",
      "10:\tlearn: 28.8876889\ttotal: 1.82s\tremaining: 14.7s\n",
      "11:\tlearn: 28.8464016\ttotal: 1.98s\tremaining: 14.6s\n",
      "12:\tlearn: 28.8012940\ttotal: 2.16s\tremaining: 14.5s\n",
      "13:\tlearn: 28.7652280\ttotal: 2.32s\tremaining: 14.3s\n",
      "14:\tlearn: 28.7148856\ttotal: 2.5s\tremaining: 14.1s\n",
      "15:\tlearn: 28.6796854\ttotal: 2.65s\tremaining: 13.9s\n",
      "16:\tlearn: 28.6476817\ttotal: 2.82s\tremaining: 13.8s\n",
      "17:\tlearn: 28.6223296\ttotal: 2.97s\tremaining: 13.5s\n",
      "18:\tlearn: 28.5990186\ttotal: 3.15s\tremaining: 13.4s\n",
      "19:\tlearn: 28.5701358\ttotal: 3.31s\tremaining: 13.2s\n",
      "20:\tlearn: 28.5512189\ttotal: 3.47s\tremaining: 13s\n",
      "21:\tlearn: 28.5230198\ttotal: 3.63s\tremaining: 12.9s\n",
      "22:\tlearn: 28.5045933\ttotal: 3.8s\tremaining: 12.7s\n",
      "23:\tlearn: 28.4801153\ttotal: 3.96s\tremaining: 12.6s\n",
      "24:\tlearn: 28.4586521\ttotal: 4.15s\tremaining: 12.4s\n",
      "25:\tlearn: 28.4388396\ttotal: 4.3s\tremaining: 12.2s\n",
      "26:\tlearn: 28.4196269\ttotal: 4.47s\tremaining: 12.1s\n",
      "27:\tlearn: 28.3961838\ttotal: 4.62s\tremaining: 11.9s\n",
      "28:\tlearn: 28.3795606\ttotal: 4.78s\tremaining: 11.7s\n",
      "29:\tlearn: 28.3625267\ttotal: 4.93s\tremaining: 11.5s\n",
      "30:\tlearn: 28.3465422\ttotal: 5.11s\tremaining: 11.4s\n",
      "31:\tlearn: 28.3254273\ttotal: 5.28s\tremaining: 11.2s\n",
      "32:\tlearn: 28.3098348\ttotal: 5.44s\tremaining: 11.1s\n",
      "33:\tlearn: 28.3012047\ttotal: 5.6s\tremaining: 10.9s\n",
      "34:\tlearn: 28.2860800\ttotal: 5.76s\tremaining: 10.7s\n",
      "35:\tlearn: 28.2715927\ttotal: 5.91s\tremaining: 10.5s\n",
      "36:\tlearn: 28.2594517\ttotal: 6.08s\tremaining: 10.4s\n",
      "37:\tlearn: 28.2414927\ttotal: 6.24s\tremaining: 10.2s\n",
      "38:\tlearn: 28.2263953\ttotal: 6.41s\tremaining: 10s\n",
      "39:\tlearn: 28.2134744\ttotal: 6.56s\tremaining: 9.84s\n",
      "40:\tlearn: 28.1984282\ttotal: 6.73s\tremaining: 9.69s\n",
      "41:\tlearn: 28.1906594\ttotal: 6.88s\tremaining: 9.49s\n",
      "42:\tlearn: 28.1773756\ttotal: 7.05s\tremaining: 9.34s\n",
      "43:\tlearn: 28.1711542\ttotal: 7.2s\tremaining: 9.16s\n",
      "44:\tlearn: 28.1631625\ttotal: 7.38s\tremaining: 9.02s\n",
      "45:\tlearn: 28.1524802\ttotal: 7.53s\tremaining: 8.84s\n",
      "46:\tlearn: 28.1426289\ttotal: 7.7s\tremaining: 8.68s\n",
      "47:\tlearn: 28.1346048\ttotal: 7.85s\tremaining: 8.51s\n",
      "48:\tlearn: 28.1271298\ttotal: 8.02s\tremaining: 8.34s\n",
      "49:\tlearn: 28.1224687\ttotal: 8.17s\tremaining: 8.17s\n",
      "50:\tlearn: 28.1165580\ttotal: 8.34s\tremaining: 8.01s\n",
      "51:\tlearn: 28.1064282\ttotal: 8.5s\tremaining: 7.85s\n",
      "52:\tlearn: 28.1009144\ttotal: 8.67s\tremaining: 7.68s\n",
      "53:\tlearn: 28.0944746\ttotal: 8.83s\tremaining: 7.52s\n",
      "54:\tlearn: 28.0890060\ttotal: 9s\tremaining: 7.36s\n",
      "55:\tlearn: 28.0783963\ttotal: 9.16s\tremaining: 7.2s\n",
      "56:\tlearn: 28.0702641\ttotal: 9.33s\tremaining: 7.04s\n",
      "57:\tlearn: 28.0608299\ttotal: 9.49s\tremaining: 6.87s\n",
      "58:\tlearn: 28.0562381\ttotal: 9.65s\tremaining: 6.71s\n",
      "59:\tlearn: 28.0507805\ttotal: 9.8s\tremaining: 6.54s\n",
      "60:\tlearn: 28.0473163\ttotal: 9.97s\tremaining: 6.38s\n",
      "61:\tlearn: 28.0416098\ttotal: 10.1s\tremaining: 6.21s\n",
      "62:\tlearn: 28.0358612\ttotal: 10.3s\tremaining: 6.06s\n",
      "63:\tlearn: 28.0294183\ttotal: 10.5s\tremaining: 5.89s\n",
      "64:\tlearn: 28.0233409\ttotal: 10.6s\tremaining: 5.73s\n",
      "65:\tlearn: 28.0175623\ttotal: 10.8s\tremaining: 5.56s\n",
      "66:\tlearn: 28.0090043\ttotal: 11s\tremaining: 5.39s\n",
      "67:\tlearn: 28.0016064\ttotal: 11.1s\tremaining: 5.24s\n",
      "68:\tlearn: 27.9934949\ttotal: 11.3s\tremaining: 5.07s\n",
      "69:\tlearn: 27.9892636\ttotal: 11.4s\tremaining: 4.9s\n",
      "70:\tlearn: 27.9812405\ttotal: 11.6s\tremaining: 4.74s\n",
      "71:\tlearn: 27.9775208\ttotal: 11.8s\tremaining: 4.58s\n",
      "72:\tlearn: 27.9711380\ttotal: 12s\tremaining: 4.42s\n",
      "73:\tlearn: 27.9654469\ttotal: 12.1s\tremaining: 4.25s\n",
      "74:\tlearn: 27.9593252\ttotal: 12.3s\tremaining: 4.09s\n",
      "75:\tlearn: 27.9531599\ttotal: 12.4s\tremaining: 3.93s\n",
      "76:\tlearn: 27.9475418\ttotal: 12.6s\tremaining: 3.76s\n",
      "77:\tlearn: 27.9409276\ttotal: 12.8s\tremaining: 3.6s\n",
      "78:\tlearn: 27.9339720\ttotal: 12.9s\tremaining: 3.43s\n",
      "79:\tlearn: 27.9300262\ttotal: 13.1s\tremaining: 3.27s\n",
      "80:\tlearn: 27.9263523\ttotal: 13.2s\tremaining: 3.11s\n",
      "81:\tlearn: 27.9213529\ttotal: 13.4s\tremaining: 2.94s\n",
      "82:\tlearn: 27.9164325\ttotal: 13.6s\tremaining: 2.78s\n",
      "83:\tlearn: 27.9130434\ttotal: 13.7s\tremaining: 2.61s\n",
      "84:\tlearn: 27.9086897\ttotal: 13.9s\tremaining: 2.45s\n",
      "85:\tlearn: 27.9068190\ttotal: 14s\tremaining: 2.28s\n",
      "86:\tlearn: 27.9014409\ttotal: 14.2s\tremaining: 2.12s\n",
      "87:\tlearn: 27.8977497\ttotal: 14.3s\tremaining: 1.96s\n",
      "88:\tlearn: 27.8944826\ttotal: 14.5s\tremaining: 1.79s\n",
      "89:\tlearn: 27.8918013\ttotal: 14.7s\tremaining: 1.63s\n",
      "90:\tlearn: 27.8897583\ttotal: 14.8s\tremaining: 1.47s\n",
      "91:\tlearn: 27.8868788\ttotal: 15s\tremaining: 1.3s\n",
      "92:\tlearn: 27.8822100\ttotal: 15.1s\tremaining: 1.14s\n",
      "93:\tlearn: 27.8792529\ttotal: 15.3s\tremaining: 976ms\n",
      "94:\tlearn: 27.8744057\ttotal: 15.5s\tremaining: 813ms\n",
      "95:\tlearn: 27.8719707\ttotal: 15.6s\tremaining: 650ms\n",
      "96:\tlearn: 27.8651643\ttotal: 15.8s\tremaining: 488ms\n",
      "97:\tlearn: 27.8590920\ttotal: 15.9s\tremaining: 325ms\n",
      "98:\tlearn: 27.8581120\ttotal: 16.1s\tremaining: 162ms\n",
      "99:\tlearn: 27.8549070\ttotal: 16.2s\tremaining: 0us\n"
     ]
    }
   ],
   "source": [
    "cbr2 = CatBoostRegressor(iterations=100, learning_rate=0.1, depth=10)\n",
    "cbr2.fit(X_train, y_train)\n",
    "pred4 = cbr2.predict(X_val)"
   ]
  },
  {
   "cell_type": "code",
   "execution_count": 37,
   "id": "e07773a9",
   "metadata": {
    "execution": {
     "iopub.execute_input": "2023-03-29T10:02:55.435123Z",
     "iopub.status.busy": "2023-03-29T10:02:55.434319Z",
     "iopub.status.idle": "2023-03-29T10:02:55.508904Z",
     "shell.execute_reply": "2023-03-29T10:02:55.507475Z"
    },
    "papermill": {
     "duration": 0.130596,
     "end_time": "2023-03-29T10:02:55.511760",
     "exception": false,
     "start_time": "2023-03-29T10:02:55.381164",
     "status": "completed"
    },
    "tags": []
   },
   "outputs": [
    {
     "name": "stdout",
     "output_type": "stream",
     "text": [
      "0.12432751069641113\n"
     ]
    }
   ],
   "source": [
    "print(cbr2.score(X_val, y_val))"
   ]
  },
  {
   "cell_type": "code",
   "execution_count": 38,
   "id": "274df834",
   "metadata": {
    "execution": {
     "iopub.execute_input": "2023-03-29T10:02:55.618498Z",
     "iopub.status.busy": "2023-03-29T10:02:55.617280Z",
     "iopub.status.idle": "2023-03-29T10:02:55.626760Z",
     "shell.execute_reply": "2023-03-29T10:02:55.625491Z"
    },
    "papermill": {
     "duration": 0.06595,
     "end_time": "2023-03-29T10:02:55.629476",
     "exception": false,
     "start_time": "2023-03-29T10:02:55.563526",
     "status": "completed"
    },
    "tags": []
   },
   "outputs": [
    {
     "data": {
      "text/plain": [
       "23.796563191601734"
      ]
     },
     "execution_count": 38,
     "metadata": {},
     "output_type": "execute_result"
    }
   ],
   "source": [
    "mean_absolute_error(pred4,y_val)"
   ]
  },
  {
   "cell_type": "code",
   "execution_count": 39,
   "id": "357c880c",
   "metadata": {
    "execution": {
     "iopub.execute_input": "2023-03-29T10:02:55.734929Z",
     "iopub.status.busy": "2023-03-29T10:02:55.734169Z",
     "iopub.status.idle": "2023-03-29T10:02:55.745135Z",
     "shell.execute_reply": "2023-03-29T10:02:55.744001Z"
    },
    "papermill": {
     "duration": 0.067098,
     "end_time": "2023-03-29T10:02:55.747487",
     "exception": false,
     "start_time": "2023-03-29T10:02:55.680389",
     "status": "completed"
    },
    "tags": []
   },
   "outputs": [
    {
     "data": {
      "text/plain": [
       "0.29808057083284734"
      ]
     },
     "execution_count": 39,
     "metadata": {},
     "output_type": "execute_result"
    }
   ],
   "source": [
    "mean_squared_log_error(pred4,y_val, squared=False)"
   ]
  },
  {
   "cell_type": "code",
   "execution_count": 40,
   "id": "6f294cf5",
   "metadata": {
    "execution": {
     "iopub.execute_input": "2023-03-29T10:02:55.852580Z",
     "iopub.status.busy": "2023-03-29T10:02:55.852153Z",
     "iopub.status.idle": "2023-03-29T10:02:55.864732Z",
     "shell.execute_reply": "2023-03-29T10:02:55.863489Z"
    },
    "papermill": {
     "duration": 0.068166,
     "end_time": "2023-03-29T10:02:55.867191",
     "exception": false,
     "start_time": "2023-03-29T10:02:55.799025",
     "status": "completed"
    },
    "tags": []
   },
   "outputs": [
    {
     "data": {
      "text/html": [
       "<div>\n",
       "<style scoped>\n",
       "    .dataframe tbody tr th:only-of-type {\n",
       "        vertical-align: middle;\n",
       "    }\n",
       "\n",
       "    .dataframe tbody tr th {\n",
       "        vertical-align: top;\n",
       "    }\n",
       "\n",
       "    .dataframe thead th {\n",
       "        text-align: right;\n",
       "    }\n",
       "</style>\n",
       "<table border=\"1\" class=\"dataframe\">\n",
       "  <thead>\n",
       "    <tr style=\"text-align: right;\">\n",
       "      <th></th>\n",
       "      <th>0</th>\n",
       "    </tr>\n",
       "    <tr>\n",
       "      <th>cost</th>\n",
       "      <th></th>\n",
       "    </tr>\n",
       "  </thead>\n",
       "  <tbody>\n",
       "    <tr>\n",
       "      <th>97.45</th>\n",
       "      <td>94.888680</td>\n",
       "    </tr>\n",
       "    <tr>\n",
       "      <th>118.36</th>\n",
       "      <td>105.604790</td>\n",
       "    </tr>\n",
       "    <tr>\n",
       "      <th>57.52</th>\n",
       "      <td>93.531758</td>\n",
       "    </tr>\n",
       "    <tr>\n",
       "      <th>54.11</th>\n",
       "      <td>85.854615</td>\n",
       "    </tr>\n",
       "    <tr>\n",
       "      <th>76.88</th>\n",
       "      <td>95.150868</td>\n",
       "    </tr>\n",
       "    <tr>\n",
       "      <th>147.82</th>\n",
       "      <td>121.189212</td>\n",
       "    </tr>\n",
       "    <tr>\n",
       "      <th>135.92</th>\n",
       "      <td>97.405235</td>\n",
       "    </tr>\n",
       "    <tr>\n",
       "      <th>89.90</th>\n",
       "      <td>116.613876</td>\n",
       "    </tr>\n",
       "    <tr>\n",
       "      <th>91.28</th>\n",
       "      <td>108.871837</td>\n",
       "    </tr>\n",
       "    <tr>\n",
       "      <th>59.86</th>\n",
       "      <td>89.342091</td>\n",
       "    </tr>\n",
       "  </tbody>\n",
       "</table>\n",
       "</div>"
      ],
      "text/plain": [
       "                 0\n",
       "cost              \n",
       "97.45    94.888680\n",
       "118.36  105.604790\n",
       "57.52    93.531758\n",
       "54.11    85.854615\n",
       "76.88    95.150868\n",
       "147.82  121.189212\n",
       "135.92   97.405235\n",
       "89.90   116.613876\n",
       "91.28   108.871837\n",
       "59.86    89.342091"
      ]
     },
     "execution_count": 40,
     "metadata": {},
     "output_type": "execute_result"
    }
   ],
   "source": [
    "df_check4=pd.DataFrame(pred4,y_val)\n",
    "df_check4.head(10)"
   ]
  },
  {
   "cell_type": "code",
   "execution_count": 41,
   "id": "b791227f",
   "metadata": {
    "execution": {
     "iopub.execute_input": "2023-03-29T10:02:55.973837Z",
     "iopub.status.busy": "2023-03-29T10:02:55.973387Z",
     "iopub.status.idle": "2023-03-29T10:02:56.000099Z",
     "shell.execute_reply": "2023-03-29T10:02:55.998821Z"
    },
    "papermill": {
     "duration": 0.083851,
     "end_time": "2023-03-29T10:02:56.002929",
     "exception": false,
     "start_time": "2023-03-29T10:02:55.919078",
     "status": "completed"
    },
    "tags": []
   },
   "outputs": [
    {
     "data": {
      "text/html": [
       "<div>\n",
       "<style scoped>\n",
       "    .dataframe tbody tr th:only-of-type {\n",
       "        vertical-align: middle;\n",
       "    }\n",
       "\n",
       "    .dataframe tbody tr th {\n",
       "        vertical-align: top;\n",
       "    }\n",
       "\n",
       "    .dataframe thead th {\n",
       "        text-align: right;\n",
       "    }\n",
       "</style>\n",
       "<table border=\"1\" class=\"dataframe\">\n",
       "  <thead>\n",
       "    <tr style=\"text-align: right;\">\n",
       "      <th></th>\n",
       "      <th>id</th>\n",
       "      <th>store_sales(in millions)</th>\n",
       "      <th>unit_sales(in millions)</th>\n",
       "      <th>total_children</th>\n",
       "      <th>num_children_at_home</th>\n",
       "      <th>avg_cars_at home(approx).1</th>\n",
       "      <th>gross_weight</th>\n",
       "      <th>recyclable_package</th>\n",
       "      <th>low_fat</th>\n",
       "      <th>units_per_case</th>\n",
       "      <th>store_sqft</th>\n",
       "      <th>coffee_bar</th>\n",
       "      <th>video_store</th>\n",
       "      <th>salad_bar</th>\n",
       "      <th>prepared_food</th>\n",
       "      <th>florist</th>\n",
       "    </tr>\n",
       "  </thead>\n",
       "  <tbody>\n",
       "    <tr>\n",
       "      <th>0</th>\n",
       "      <td>360336</td>\n",
       "      <td>7.24</td>\n",
       "      <td>4.0</td>\n",
       "      <td>1.0</td>\n",
       "      <td>0.0</td>\n",
       "      <td>2.0</td>\n",
       "      <td>10.80</td>\n",
       "      <td>0.0</td>\n",
       "      <td>1.0</td>\n",
       "      <td>7.0</td>\n",
       "      <td>20319.0</td>\n",
       "      <td>0.0</td>\n",
       "      <td>0.0</td>\n",
       "      <td>0.0</td>\n",
       "      <td>0.0</td>\n",
       "      <td>0.0</td>\n",
       "    </tr>\n",
       "    <tr>\n",
       "      <th>1</th>\n",
       "      <td>360337</td>\n",
       "      <td>6.90</td>\n",
       "      <td>2.0</td>\n",
       "      <td>2.0</td>\n",
       "      <td>2.0</td>\n",
       "      <td>3.0</td>\n",
       "      <td>8.51</td>\n",
       "      <td>1.0</td>\n",
       "      <td>0.0</td>\n",
       "      <td>4.0</td>\n",
       "      <td>33858.0</td>\n",
       "      <td>1.0</td>\n",
       "      <td>0.0</td>\n",
       "      <td>1.0</td>\n",
       "      <td>1.0</td>\n",
       "      <td>1.0</td>\n",
       "    </tr>\n",
       "    <tr>\n",
       "      <th>2</th>\n",
       "      <td>360338</td>\n",
       "      <td>8.34</td>\n",
       "      <td>3.0</td>\n",
       "      <td>0.0</td>\n",
       "      <td>0.0</td>\n",
       "      <td>3.0</td>\n",
       "      <td>8.77</td>\n",
       "      <td>0.0</td>\n",
       "      <td>1.0</td>\n",
       "      <td>14.0</td>\n",
       "      <td>39696.0</td>\n",
       "      <td>0.0</td>\n",
       "      <td>0.0</td>\n",
       "      <td>1.0</td>\n",
       "      <td>1.0</td>\n",
       "      <td>0.0</td>\n",
       "    </tr>\n",
       "    <tr>\n",
       "      <th>3</th>\n",
       "      <td>360339</td>\n",
       "      <td>5.48</td>\n",
       "      <td>2.0</td>\n",
       "      <td>3.0</td>\n",
       "      <td>3.0</td>\n",
       "      <td>2.0</td>\n",
       "      <td>21.90</td>\n",
       "      <td>1.0</td>\n",
       "      <td>0.0</td>\n",
       "      <td>9.0</td>\n",
       "      <td>23688.0</td>\n",
       "      <td>1.0</td>\n",
       "      <td>1.0</td>\n",
       "      <td>1.0</td>\n",
       "      <td>1.0</td>\n",
       "      <td>1.0</td>\n",
       "    </tr>\n",
       "    <tr>\n",
       "      <th>4</th>\n",
       "      <td>360340</td>\n",
       "      <td>4.80</td>\n",
       "      <td>3.0</td>\n",
       "      <td>2.0</td>\n",
       "      <td>0.0</td>\n",
       "      <td>2.0</td>\n",
       "      <td>10.90</td>\n",
       "      <td>1.0</td>\n",
       "      <td>0.0</td>\n",
       "      <td>11.0</td>\n",
       "      <td>27694.0</td>\n",
       "      <td>1.0</td>\n",
       "      <td>1.0</td>\n",
       "      <td>1.0</td>\n",
       "      <td>1.0</td>\n",
       "      <td>1.0</td>\n",
       "    </tr>\n",
       "  </tbody>\n",
       "</table>\n",
       "</div>"
      ],
      "text/plain": [
       "       id  store_sales(in millions)  unit_sales(in millions)  total_children  \\\n",
       "0  360336                      7.24                      4.0             1.0   \n",
       "1  360337                      6.90                      2.0             2.0   \n",
       "2  360338                      8.34                      3.0             0.0   \n",
       "3  360339                      5.48                      2.0             3.0   \n",
       "4  360340                      4.80                      3.0             2.0   \n",
       "\n",
       "   num_children_at_home  avg_cars_at home(approx).1  gross_weight  \\\n",
       "0                   0.0                         2.0         10.80   \n",
       "1                   2.0                         3.0          8.51   \n",
       "2                   0.0                         3.0          8.77   \n",
       "3                   3.0                         2.0         21.90   \n",
       "4                   0.0                         2.0         10.90   \n",
       "\n",
       "   recyclable_package  low_fat  units_per_case  store_sqft  coffee_bar  \\\n",
       "0                 0.0      1.0             7.0     20319.0         0.0   \n",
       "1                 1.0      0.0             4.0     33858.0         1.0   \n",
       "2                 0.0      1.0            14.0     39696.0         0.0   \n",
       "3                 1.0      0.0             9.0     23688.0         1.0   \n",
       "4                 1.0      0.0            11.0     27694.0         1.0   \n",
       "\n",
       "   video_store  salad_bar  prepared_food  florist  \n",
       "0          0.0        0.0            0.0      0.0  \n",
       "1          0.0        1.0            1.0      1.0  \n",
       "2          0.0        1.0            1.0      0.0  \n",
       "3          1.0        1.0            1.0      1.0  \n",
       "4          1.0        1.0            1.0      1.0  "
      ]
     },
     "execution_count": 41,
     "metadata": {},
     "output_type": "execute_result"
    }
   ],
   "source": [
    "df_test.head()"
   ]
  },
  {
   "cell_type": "code",
   "execution_count": 42,
   "id": "2745fb76",
   "metadata": {
    "execution": {
     "iopub.execute_input": "2023-03-29T10:02:56.108208Z",
     "iopub.status.busy": "2023-03-29T10:02:56.107727Z",
     "iopub.status.idle": "2023-03-29T10:02:56.119873Z",
     "shell.execute_reply": "2023-03-29T10:02:56.118837Z"
    },
    "papermill": {
     "duration": 0.067758,
     "end_time": "2023-03-29T10:02:56.122575",
     "exception": false,
     "start_time": "2023-03-29T10:02:56.054817",
     "status": "completed"
    },
    "tags": []
   },
   "outputs": [],
   "source": [
    "df_test1=df_test.copy()"
   ]
  },
  {
   "cell_type": "code",
   "execution_count": 43,
   "id": "3e4e8306",
   "metadata": {
    "execution": {
     "iopub.execute_input": "2023-03-29T10:02:56.229512Z",
     "iopub.status.busy": "2023-03-29T10:02:56.229086Z",
     "iopub.status.idle": "2023-03-29T10:02:56.246248Z",
     "shell.execute_reply": "2023-03-29T10:02:56.244988Z"
    },
    "papermill": {
     "duration": 0.07458,
     "end_time": "2023-03-29T10:02:56.248840",
     "exception": false,
     "start_time": "2023-03-29T10:02:56.174260",
     "status": "completed"
    },
    "tags": []
   },
   "outputs": [],
   "source": [
    "df_test.drop(columns='id', axis=1, inplace=True)"
   ]
  },
  {
   "cell_type": "code",
   "execution_count": 44,
   "id": "71a4ac3c",
   "metadata": {
    "execution": {
     "iopub.execute_input": "2023-03-29T10:02:56.357062Z",
     "iopub.status.busy": "2023-03-29T10:02:56.356603Z",
     "iopub.status.idle": "2023-03-29T10:02:56.371107Z",
     "shell.execute_reply": "2023-03-29T10:02:56.370005Z"
    },
    "papermill": {
     "duration": 0.071657,
     "end_time": "2023-03-29T10:02:56.373901",
     "exception": false,
     "start_time": "2023-03-29T10:02:56.302244",
     "status": "completed"
    },
    "tags": []
   },
   "outputs": [],
   "source": [
    "df_test['children_ratio'] = df_test['total_children'] / df_test['num_children_at_home']\n",
    "df_test['children_ratio'] = df_test['children_ratio'].replace([np.inf, -np.inf], 10)\n",
    "df_test['facilities']= df_test['coffee_bar'] + df_test['video_store'] + df_test['salad_bar'] + df_test['florist']"
   ]
  },
  {
   "cell_type": "code",
   "execution_count": 45,
   "id": "01f652e9",
   "metadata": {
    "execution": {
     "iopub.execute_input": "2023-03-29T10:02:56.481525Z",
     "iopub.status.busy": "2023-03-29T10:02:56.481096Z",
     "iopub.status.idle": "2023-03-29T10:02:56.595975Z",
     "shell.execute_reply": "2023-03-29T10:02:56.594451Z"
    },
    "papermill": {
     "duration": 0.172516,
     "end_time": "2023-03-29T10:02:56.598968",
     "exception": false,
     "start_time": "2023-03-29T10:02:56.426452",
     "status": "completed"
    },
    "tags": []
   },
   "outputs": [],
   "source": [
    "cat=['total_children',\n",
    "     'num_children_at_home',\n",
    "     'avg_cars_at home(approx).1',\n",
    "     'recyclable_package',\n",
    "     'low_fat',\n",
    "     'coffee_bar',\n",
    "     'video_store',\n",
    "     'salad_bar',\n",
    "     'prepared_food',\n",
    "     'florist']\n",
    "df_test=pd.get_dummies(df_test, columns=cat)"
   ]
  },
  {
   "cell_type": "markdown",
   "id": "c2927a70",
   "metadata": {
    "papermill": {
     "duration": 0.05103,
     "end_time": "2023-03-29T10:02:56.701530",
     "exception": false,
     "start_time": "2023-03-29T10:02:56.650500",
     "status": "completed"
    },
    "tags": []
   },
   "source": [
    "# Test data"
   ]
  },
  {
   "cell_type": "code",
   "execution_count": 46,
   "id": "8f8d6553",
   "metadata": {
    "execution": {
     "iopub.execute_input": "2023-03-29T10:02:56.806459Z",
     "iopub.status.busy": "2023-03-29T10:02:56.806021Z",
     "iopub.status.idle": "2023-03-29T10:02:56.811651Z",
     "shell.execute_reply": "2023-03-29T10:02:56.810262Z"
    },
    "papermill": {
     "duration": 0.06144,
     "end_time": "2023-03-29T10:02:56.814332",
     "exception": false,
     "start_time": "2023-03-29T10:02:56.752892",
     "status": "completed"
    },
    "tags": []
   },
   "outputs": [],
   "source": [
    "X_test=df_test"
   ]
  },
  {
   "cell_type": "code",
   "execution_count": 47,
   "id": "bd4e5552",
   "metadata": {
    "execution": {
     "iopub.execute_input": "2023-03-29T10:02:56.923007Z",
     "iopub.status.busy": "2023-03-29T10:02:56.922602Z",
     "iopub.status.idle": "2023-03-29T10:02:57.131689Z",
     "shell.execute_reply": "2023-03-29T10:02:57.130091Z"
    },
    "papermill": {
     "duration": 0.266949,
     "end_time": "2023-03-29T10:02:57.134786",
     "exception": false,
     "start_time": "2023-03-29T10:02:56.867837",
     "status": "completed"
    },
    "tags": []
   },
   "outputs": [],
   "source": [
    "final_prediction = cbr2.predict(X_test)"
   ]
  },
  {
   "cell_type": "markdown",
   "id": "6a4299a5",
   "metadata": {
    "papermill": {
     "duration": 0.051047,
     "end_time": "2023-03-29T10:02:57.236912",
     "exception": false,
     "start_time": "2023-03-29T10:02:57.185865",
     "status": "completed"
    },
    "tags": []
   },
   "source": [
    "# Prediction"
   ]
  },
  {
   "cell_type": "code",
   "execution_count": 48,
   "id": "0416dad7",
   "metadata": {
    "execution": {
     "iopub.execute_input": "2023-03-29T10:02:57.343044Z",
     "iopub.status.busy": "2023-03-29T10:02:57.342619Z",
     "iopub.status.idle": "2023-03-29T10:02:57.359299Z",
     "shell.execute_reply": "2023-03-29T10:02:57.357886Z"
    },
    "papermill": {
     "duration": 0.074122,
     "end_time": "2023-03-29T10:02:57.362362",
     "exception": false,
     "start_time": "2023-03-29T10:02:57.288240",
     "status": "completed"
    },
    "tags": []
   },
   "outputs": [
    {
     "data": {
      "text/html": [
       "<div>\n",
       "<style scoped>\n",
       "    .dataframe tbody tr th:only-of-type {\n",
       "        vertical-align: middle;\n",
       "    }\n",
       "\n",
       "    .dataframe tbody tr th {\n",
       "        vertical-align: top;\n",
       "    }\n",
       "\n",
       "    .dataframe thead th {\n",
       "        text-align: right;\n",
       "    }\n",
       "</style>\n",
       "<table border=\"1\" class=\"dataframe\">\n",
       "  <thead>\n",
       "    <tr style=\"text-align: right;\">\n",
       "      <th></th>\n",
       "      <th>id</th>\n",
       "      <th>cost</th>\n",
       "    </tr>\n",
       "  </thead>\n",
       "  <tbody>\n",
       "    <tr>\n",
       "      <th>0</th>\n",
       "      <td>360336</td>\n",
       "      <td>98.102875</td>\n",
       "    </tr>\n",
       "    <tr>\n",
       "      <th>1</th>\n",
       "      <td>360337</td>\n",
       "      <td>97.760472</td>\n",
       "    </tr>\n",
       "    <tr>\n",
       "      <th>2</th>\n",
       "      <td>360338</td>\n",
       "      <td>98.466182</td>\n",
       "    </tr>\n",
       "    <tr>\n",
       "      <th>3</th>\n",
       "      <td>360339</td>\n",
       "      <td>101.251570</td>\n",
       "    </tr>\n",
       "    <tr>\n",
       "      <th>4</th>\n",
       "      <td>360340</td>\n",
       "      <td>83.298429</td>\n",
       "    </tr>\n",
       "    <tr>\n",
       "      <th>...</th>\n",
       "      <td>...</td>\n",
       "      <td>...</td>\n",
       "    </tr>\n",
       "    <tr>\n",
       "      <th>240219</th>\n",
       "      <td>600555</td>\n",
       "      <td>104.469193</td>\n",
       "    </tr>\n",
       "    <tr>\n",
       "      <th>240220</th>\n",
       "      <td>600556</td>\n",
       "      <td>95.843669</td>\n",
       "    </tr>\n",
       "    <tr>\n",
       "      <th>240221</th>\n",
       "      <td>600557</td>\n",
       "      <td>98.285097</td>\n",
       "    </tr>\n",
       "    <tr>\n",
       "      <th>240222</th>\n",
       "      <td>600558</td>\n",
       "      <td>107.829190</td>\n",
       "    </tr>\n",
       "    <tr>\n",
       "      <th>240223</th>\n",
       "      <td>600559</td>\n",
       "      <td>109.089014</td>\n",
       "    </tr>\n",
       "  </tbody>\n",
       "</table>\n",
       "<p>240224 rows × 2 columns</p>\n",
       "</div>"
      ],
      "text/plain": [
       "            id        cost\n",
       "0       360336   98.102875\n",
       "1       360337   97.760472\n",
       "2       360338   98.466182\n",
       "3       360339  101.251570\n",
       "4       360340   83.298429\n",
       "...        ...         ...\n",
       "240219  600555  104.469193\n",
       "240220  600556   95.843669\n",
       "240221  600557   98.285097\n",
       "240222  600558  107.829190\n",
       "240223  600559  109.089014\n",
       "\n",
       "[240224 rows x 2 columns]"
      ]
     },
     "execution_count": 48,
     "metadata": {},
     "output_type": "execute_result"
    }
   ],
   "source": [
    "final_test = pd.DataFrame({'id' : df_test1['id'], 'cost' : final_prediction})\n",
    "final_test"
   ]
  },
  {
   "cell_type": "markdown",
   "id": "5eb90c08",
   "metadata": {
    "papermill": {
     "duration": 0.052187,
     "end_time": "2023-03-29T10:02:57.467764",
     "exception": false,
     "start_time": "2023-03-29T10:02:57.415577",
     "status": "completed"
    },
    "tags": []
   },
   "source": [
    "# Submission"
   ]
  },
  {
   "cell_type": "code",
   "execution_count": 49,
   "id": "d9438413",
   "metadata": {
    "execution": {
     "iopub.execute_input": "2023-03-29T10:02:57.578241Z",
     "iopub.status.busy": "2023-03-29T10:02:57.577838Z",
     "iopub.status.idle": "2023-03-29T10:02:58.133191Z",
     "shell.execute_reply": "2023-03-29T10:02:58.132077Z"
    },
    "papermill": {
     "duration": 0.614785,
     "end_time": "2023-03-29T10:02:58.136028",
     "exception": false,
     "start_time": "2023-03-29T10:02:57.521243",
     "status": "completed"
    },
    "tags": []
   },
   "outputs": [],
   "source": [
    "final_test.to_csv('submission.csv', index=False)"
   ]
  }
 ],
 "metadata": {
  "kernelspec": {
   "display_name": "Python 3 (ipykernel)",
   "language": "python",
   "name": "python3"
  },
  "language_info": {
   "codemirror_mode": {
    "name": "ipython",
    "version": 3
   },
   "file_extension": ".py",
   "mimetype": "text/x-python",
   "name": "python",
   "nbconvert_exporter": "python",
   "pygments_lexer": "ipython3",
   "version": "3.9.13"
  },
  "papermill": {
   "default_parameters": {},
   "duration": 213.567694,
   "end_time": "2023-03-29T10:02:59.112996",
   "environment_variables": {},
   "exception": null,
   "input_path": "__notebook__.ipynb",
   "output_path": "__notebook__.ipynb",
   "parameters": {},
   "start_time": "2023-03-29T09:59:25.545302",
   "version": "2.4.0"
  }
 },
 "nbformat": 4,
 "nbformat_minor": 5
}
